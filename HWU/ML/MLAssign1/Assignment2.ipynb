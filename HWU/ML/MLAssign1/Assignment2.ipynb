{
 "cells": [
  {
   "cell_type": "markdown",
   "metadata": {},
   "source": [
    "# Assignment 2 of Data Mining "
   ]
  },
  {
   "cell_type": "code",
   "execution_count": 1,
   "metadata": {},
   "outputs": [
    {
     "name": "stderr",
     "output_type": "stream",
     "text": [
      "/home/bigmb/anaconda3/lib/python3.5/importlib/_bootstrap.py:222: RuntimeWarning: numpy.dtype size changed, may indicate binary incompatibility. Expected 96, got 88\n",
      "  return f(*args, **kwds)\n",
      "/home/bigmb/anaconda3/lib/python3.5/importlib/_bootstrap.py:222: RuntimeWarning: numpy.dtype size changed, may indicate binary incompatibility. Expected 96, got 88\n",
      "  return f(*args, **kwds)\n"
     ]
    }
   ],
   "source": [
    "import pandas as pd\n",
    "import numpy as np\n",
    "import matplotlib\n",
    "import matplotlib.pyplot as plt\n",
    "import seaborn as sea"
   ]
  },
  {
   "cell_type": "code",
   "execution_count": 163,
   "metadata": {},
   "outputs": [],
   "source": [
    "dall = pd.read_csv('fer2018/fer2018.csv')"
   ]
  },
  {
   "cell_type": "code",
   "execution_count": 164,
   "metadata": {},
   "outputs": [
    {
     "data": {
      "text/plain": [
       "71774"
      ]
     },
     "execution_count": 164,
     "metadata": {},
     "output_type": "execute_result"
    }
   ],
   "source": [
    "dall.size"
   ]
  },
  {
   "cell_type": "code",
   "execution_count": 3,
   "metadata": {},
   "outputs": [
    {
     "data": {
      "text/plain": [
       "(35887, 2)"
      ]
     },
     "execution_count": 3,
     "metadata": {},
     "output_type": "execute_result"
    }
   ],
   "source": [
    "dall.shape"
   ]
  },
  {
   "cell_type": "code",
   "execution_count": 4,
   "metadata": {},
   "outputs": [],
   "source": [
    "dall = dall.sample(frac=1)"
   ]
  },
  {
   "cell_type": "code",
   "execution_count": 5,
   "metadata": {},
   "outputs": [],
   "source": [
    "all_count = dall['emotion'].value_counts()"
   ]
  },
  {
   "cell_type": "code",
   "execution_count": 6,
   "metadata": {},
   "outputs": [
    {
     "name": "stdout",
     "output_type": "stream",
     "text": [
      "3    8989\n",
      "6    6198\n",
      "4    6077\n",
      "2    5121\n",
      "0    4953\n",
      "5    4002\n",
      "1     547\n",
      "Name: emotion, dtype: int64\n"
     ]
    }
   ],
   "source": [
    "print(dall['emotion'].value_counts())"
   ]
  },
  {
   "cell_type": "markdown",
   "metadata": {},
   "source": [
    "## Checking the data of the files "
   ]
  },
  {
   "cell_type": "code",
   "execution_count": 7,
   "metadata": {},
   "outputs": [
    {
     "data": {
      "text/plain": [
       "<matplotlib.axes._subplots.AxesSubplot at 0x7f5aa8244160>"
      ]
     },
     "execution_count": 7,
     "metadata": {},
     "output_type": "execute_result"
    },
    {
     "data": {
      "image/png": "[encoded data removed]",
      "text/plain": [
       "<Figure size 432x288 with 1 Axes>"
      ]
     },
     "metadata": {},
     "output_type": "display_data"
    }
   ],
   "source": [
    "sea.countplot(dall['emotion'])"
   ]
  },
  {
   "cell_type": "code",
   "execution_count": 82,
   "metadata": {},
   "outputs": [
    {
     "data": {
      "text/plain": [
       "35887"
      ]
     },
     "execution_count": 82,
     "metadata": {},
     "output_type": "execute_result"
    }
   ],
   "source": [
    "dall['pixels'].size"
   ]
  },
  {
   "cell_type": "markdown",
   "metadata": {},
   "source": [
    "## 500 data set values "
   ]
  },
  {
   "cell_type": "code",
   "execution_count": 223,
   "metadata": {},
   "outputs": [],
   "source": [
    "dall_0 = dall.loc[dall['emotion'] == 0];\n",
    "dall0 = dall_0.iloc[0:500]\n",
    "dall_1 = dall.loc[dall['emotion'] == 1];\n",
    "dall1 = dall_1.iloc[0:500]\n",
    "dall_2 = dall.loc[dall['emotion'] == 2];\n",
    "dall2 = dall_2.iloc[0:500]\n",
    "dall_3 = dall.loc[dall['emotion'] == 3];\n",
    "dall3 = dall_3.iloc[0:500]\n",
    "dall_4 = dall.loc[dall['emotion'] == 4];\n",
    "dall4 = dall_4.iloc[0:500]\n",
    "dall_5 = dall.loc[dall['emotion'] == 5];\n",
    "dall5 = dall_5.iloc[0:500]\n",
    "dall_6 = dall.loc[dall['emotion'] == 6];\n",
    "dall6 = dall_6.iloc[0:500]"
   ]
  },
  {
   "cell_type": "code",
   "execution_count": 240,
   "metadata": {},
   "outputs": [],
   "source": [
    "dall_500 = pd.concat([dall0,dall1,dall2,dall3,dall4,dall5,dall6], ignore_index=True)"
   ]
  },
  {
   "cell_type": "code",
   "execution_count": 241,
   "metadata": {},
   "outputs": [
    {
     "data": {
      "text/plain": [
       "(3500, 2)"
      ]
     },
     "execution_count": 241,
     "metadata": {},
     "output_type": "execute_result"
    }
   ],
   "source": [
    "dall_500.shape"
   ]
  },
  {
   "cell_type": "code",
   "execution_count": 242,
   "metadata": {},
   "outputs": [],
   "source": [
    "dall_500 = dall_500.sample(frac=1)"
   ]
  },
  {
   "cell_type": "code",
   "execution_count": 245,
   "metadata": {},
   "outputs": [],
   "source": [
    "emotion500_as_list = pandas_vector_to_list(dall_500['emotion'])\n",
    "y_data1 = []\n",
    "for index in range(len(dall_500['emotion'])):\n",
    "    y_data1.append(emotion500_as_list[index])"
   ]
  },
  {
   "cell_type": "code",
   "execution_count": 246,
   "metadata": {},
   "outputs": [],
   "source": [
    "np_image_array1 = []\n",
    "for index, item in enumerate(dall_500['pixels']):\n",
    "    # 48x48\n",
    "    data = np.zeros((1,48* 48), dtype=np.uint8)\n",
    "    # split space separated ints\n",
    "    pixel_data = item.split()\n",
    "\n",
    "\n",
    "    np_image_array1.append(np.array(pixel_data))\n",
    "\n",
    "np_image_array1 = np.array(np_image_array1)\n",
    "# convert to float and divide by 255\n",
    "np_image_array1 = np_image_array1.astype('float32') / 255.0"
   ]
  },
  {
   "cell_type": "code",
   "execution_count": 247,
   "metadata": {},
   "outputs": [],
   "source": [
    "from sklearn.model_selection import train_test_split  \n",
    "X_train500, X_test500, y_train500, y_test500 = train_test_split(np_image_array1, y_data1, test_size=0.20)"
   ]
  },
  {
   "cell_type": "code",
   "execution_count": 249,
   "metadata": {},
   "outputs": [],
   "source": [
    "from sklearn.preprocessing import StandardScaler  \n",
    "scaler = StandardScaler()  \n",
    "scaler.fit(X_train500)\n",
    "\n",
    "X_train500 = scaler.transform(X_train500)  \n",
    "X_test500 = scaler.transform(X_test500) "
   ]
  },
  {
   "cell_type": "markdown",
   "metadata": {},
   "source": [
    "## GaussianNB of 500 data set "
   ]
  },
  {
   "cell_type": "code",
   "execution_count": 250,
   "metadata": {},
   "outputs": [
    {
     "data": {
      "text/plain": [
       "GaussianNB(priors=None, var_smoothing=1e-09)"
      ]
     },
     "execution_count": 250,
     "metadata": {},
     "output_type": "execute_result"
    }
   ],
   "source": [
    "model500 = GaussianNB()\n",
    "model500.fit(X_train500, y_train500)"
   ]
  },
  {
   "cell_type": "code",
   "execution_count": 251,
   "metadata": {},
   "outputs": [],
   "source": [
    "labels500 = model.predict(X_test500)"
   ]
  },
  {
   "cell_type": "code",
   "execution_count": 252,
   "metadata": {},
   "outputs": [
    {
     "name": "stdout",
     "output_type": "stream",
     "text": [
      "              precision    recall  f1-score   support\n",
      "\n",
      "           0       0.17      0.05      0.08        98\n",
      "           1       0.20      0.16      0.18       107\n",
      "           2       0.35      0.06      0.10       102\n",
      "           3       0.25      0.21      0.23        87\n",
      "           4       0.23      0.42      0.30       113\n",
      "           5       0.21      0.50      0.29        92\n",
      "           6       0.14      0.09      0.11       101\n",
      "\n",
      "   micro avg       0.21      0.21      0.21       700\n",
      "   macro avg       0.22      0.21      0.18       700\n",
      "weighted avg       0.22      0.21      0.18       700\n",
      "\n",
      "[[ 5 15  3  9 34 26  6]\n",
      " [ 5 17  1 14 30 33  7]\n",
      " [ 4 12  6  4 32 34 10]\n",
      " [ 5  7  1 18 22 28  6]\n",
      " [ 3 13  4  7 48 27 11]\n",
      " [ 4  8  1  7 10 46 16]\n",
      " [ 4 12  1 13 35 27  9]]\n"
     ]
    }
   ],
   "source": [
    "from sklearn import metrics\n",
    "print(metrics.classification_report(y_test500, labels500))\n",
    "print(metrics.confusion_matrix(y_test500,labels500))"
   ]
  },
  {
   "cell_type": "code",
   "execution_count": 8,
   "metadata": {},
   "outputs": [
    {
     "name": "stdout",
     "output_type": "stream",
     "text": [
      "<class 'pandas.core.frame.DataFrame'>\n",
      "Int64Index: 35887 entries, 7107 to 27817\n",
      "Data columns (total 2 columns):\n",
      "emotion    35887 non-null int64\n",
      "pixels     35887 non-null object\n",
      "dtypes: int64(1), object(1)\n",
      "memory usage: 2.1+ MB\n"
     ]
    }
   ],
   "source": [
    "dall.info()"
   ]
  },
  {
   "cell_type": "markdown",
   "metadata": {},
   "source": [
    "## Show Images "
   ]
  },
  {
   "cell_type": "code",
   "execution_count": 9,
   "metadata": {},
   "outputs": [],
   "source": [
    "def show_image(i):\n",
    "    nd = dall['pixels'][i]\n",
    "    val = nd.split(\" \")\n",
    "    x_pixels = np.array(val, 'float32')\n",
    "    x_pixels /= 255\n",
    "    x_reshaped = x_pixels.reshape(48,48)\n",
    "    plt.imshow(x_reshaped, cmap= \"gray\", interpolation=\"nearest\")    \n",
    "    plt.axis(\"off\")\n",
    "    plt.show()"
   ]
  },
  {
   "cell_type": "code",
   "execution_count": 10,
   "metadata": {},
   "outputs": [
    {
     "data": {
      "image/png": "[encoded data removed]",
      "text/plain": [
       "<Figure size 432x288 with 1 Axes>"
      ]
     },
     "metadata": {},
     "output_type": "display_data"
    },
    {
     "data": {
      "image/png": "[encoded data removed]",
      "text/plain": [
       "<Figure size 432x288 with 1 Axes>"
      ]
     },
     "metadata": {},
     "output_type": "display_data"
    }
   ],
   "source": [
    "plt.figure(1)\n",
    "plt.subplot(211)\n",
    "show_image(1)\n",
    "plt.subplot(212)\n",
    "show_image(2)"
   ]
  },
  {
   "cell_type": "code",
   "execution_count": 11,
   "metadata": {},
   "outputs": [],
   "source": [
    "NUM_CLASSES = 7\n",
    "img_size = 48"
   ]
  },
  {
   "cell_type": "markdown",
   "metadata": {},
   "source": [
    "## Preproccessing Dataset  "
   ]
  },
  {
   "cell_type": "code",
   "execution_count": 12,
   "metadata": {},
   "outputs": [],
   "source": [
    "def pandas_vector_to_list(pandas_df):\n",
    "    py_list = [item for item in pandas_df.values.tolist()]\n",
    "    return py_list"
   ]
  },
  {
   "cell_type": "code",
   "execution_count": 13,
   "metadata": {},
   "outputs": [],
   "source": [
    "emotion_as_list = pandas_vector_to_list(dall['emotion'])\n",
    "y_data = []\n",
    "for index in range(len(dall['emotion'])):\n",
    "    y_data.append(emotion_as_list[index])"
   ]
  },
  {
   "cell_type": "code",
   "execution_count": 14,
   "metadata": {},
   "outputs": [],
   "source": [
    "np_image_array = []\n",
    "for index, item in enumerate(dall['pixels']):\n",
    "    # 48x48\n",
    "    data = np.zeros((1,48* 48), dtype=np.uint8)\n",
    "    # split space separated ints\n",
    "    pixel_data = item.split()\n",
    "\n",
    "\n",
    "    np_image_array.append(np.array(pixel_data))\n",
    "\n",
    "np_image_array = np.array(np_image_array)\n",
    "# convert to float and divide by 255\n",
    "np_image_array = np_image_array.astype('float32') / 255.0"
   ]
  },
  {
   "cell_type": "code",
   "execution_count": 345,
   "metadata": {},
   "outputs": [],
   "source": [
    "from sklearn.model_selection import train_test_split  \n",
    "X_train, X_test, y_train, y_test = train_test_split(np_image_array, y_data, test_size=0.20)"
   ]
  },
  {
   "cell_type": "code",
   "execution_count": 16,
   "metadata": {},
   "outputs": [],
   "source": [
    "from sklearn.preprocessing import StandardScaler  \n",
    "scaler = StandardScaler()  \n",
    "scaler.fit(X_train)\n",
    "\n",
    "X_train = scaler.transform(X_train)  \n",
    "X_test = scaler.transform(X_test) "
   ]
  },
  {
   "cell_type": "code",
   "execution_count": 271,
   "metadata": {},
   "outputs": [
    {
     "data": {
      "text/plain": [
       "(7178, 2304)"
      ]
     },
     "execution_count": 271,
     "metadata": {},
     "output_type": "execute_result"
    }
   ],
   "source": [
    "X_test.shape"
   ]
  },
  {
   "cell_type": "code",
   "execution_count": 272,
   "metadata": {},
   "outputs": [
    {
     "data": {
      "text/plain": [
       "(28709, 2304)"
      ]
     },
     "execution_count": 272,
     "metadata": {},
     "output_type": "execute_result"
    }
   ],
   "source": [
    "X_train.shape"
   ]
  },
  {
   "cell_type": "markdown",
   "metadata": {},
   "source": [
    "## GaussianNB of Whole Dataset"
   ]
  },
  {
   "cell_type": "code",
   "execution_count": 19,
   "metadata": {},
   "outputs": [],
   "source": [
    "from sklearn.naive_bayes import GaussianNB"
   ]
  },
  {
   "cell_type": "code",
   "execution_count": 20,
   "metadata": {},
   "outputs": [
    {
     "data": {
      "text/plain": [
       "GaussianNB(priors=None, var_smoothing=1e-09)"
      ]
     },
     "execution_count": 20,
     "metadata": {},
     "output_type": "execute_result"
    }
   ],
   "source": [
    "model = GaussianNB()\n",
    "model.fit(X_train, y_train)"
   ]
  },
  {
   "cell_type": "code",
   "execution_count": 21,
   "metadata": {},
   "outputs": [],
   "source": [
    "labels = model.predict(X_test)"
   ]
  },
  {
   "cell_type": "code",
   "execution_count": 22,
   "metadata": {
    "scrolled": true
   },
   "outputs": [
    {
     "name": "stdout",
     "output_type": "stream",
     "text": [
      "              precision    recall  f1-score   support\n",
      "\n",
      "           0       0.24      0.06      0.10       962\n",
      "           1       0.03      0.21      0.05       111\n",
      "           2       0.23      0.05      0.09      1024\n",
      "           3       0.41      0.15      0.22      1830\n",
      "           4       0.24      0.40      0.30      1221\n",
      "           5       0.20      0.60      0.29       792\n",
      "           6       0.24      0.13      0.17      1238\n",
      "\n",
      "   micro avg       0.22      0.22      0.22      7178\n",
      "   macro avg       0.23      0.23      0.17      7178\n",
      "weighted avg       0.27      0.22      0.20      7178\n",
      "\n",
      "[[ 57 134  32  80 329 262  68]\n",
      " [  5  23   0  14  24  38   7]\n",
      " [ 41 108  56  75 231 429  84]\n",
      " [ 55 228  52 281 457 574 183]\n",
      " [ 39 147  45  80 491 299 120]\n",
      " [ 15  79  22  53  93 473  57]\n",
      " [ 25 145  36 110 411 345 166]]\n"
     ]
    }
   ],
   "source": [
    "from sklearn import metrics\n",
    "print(metrics.classification_report(y_test, labels))\n",
    "print(metrics.confusion_matrix(y_test,labels))"
   ]
  },
  {
   "cell_type": "code",
   "execution_count": 23,
   "metadata": {},
   "outputs": [
    {
     "name": "stdout",
     "output_type": "stream",
     "text": [
      "Number of mislabeled points out of a total 7178 points : 5631, performance 21.55%\n"
     ]
    }
   ],
   "source": [
    "print(\"Number of mislabeled points out of a total {} points : {}, performance {:05.2f}%\"\n",
    "      .format(X_test.shape[0],(y_test != labels).sum(),100*(1-(y_test != labels).sum()/X_test.shape[0])))"
   ]
  },
  {
   "cell_type": "code",
   "execution_count": 24,
   "metadata": {},
   "outputs": [],
   "source": [
    "false_P, true_P, thresholds = metrics.roc_curve(y_test, labels, pos_label=2)"
   ]
  },
  {
   "cell_type": "code",
   "execution_count": 25,
   "metadata": {},
   "outputs": [
    {
     "data": {
      "text/plain": [
       "[<matplotlib.lines.Line2D at 0x7f5aa4799550>]"
      ]
     },
     "execution_count": 25,
     "metadata": {},
     "output_type": "execute_result"
    },
    {
     "data": {
      "image/png": "[encoded data removed]",
      "text/plain": [
       "<Figure size 432x288 with 1 Axes>"
      ]
     },
     "metadata": {},
     "output_type": "display_data"
    }
   ],
   "source": [
    "plt.plot(false_P,true_P)"
   ]
  },
  {
   "cell_type": "code",
   "execution_count": 26,
   "metadata": {},
   "outputs": [
    {
     "name": "stdout",
     "output_type": "stream",
     "text": [
      "area under the curve is : 0.5227741865047124\n"
     ]
    }
   ],
   "source": [
    "auc = metrics.auc(false_P,true_P)\n",
    "print('area under the curve is :', auc)"
   ]
  },
  {
   "cell_type": "code",
   "execution_count": 27,
   "metadata": {},
   "outputs": [
    {
     "name": "stdout",
     "output_type": "stream",
     "text": [
      "accuracy of the system is : 0.2155196433546949\n"
     ]
    }
   ],
   "source": [
    "acc = metrics.accuracy_score(y_test,labels)\n",
    "print('accuracy of the system is :' ,acc )"
   ]
  },
  {
   "cell_type": "markdown",
   "metadata": {},
   "source": [
    "##  BernoullieNB of Whole Dataset"
   ]
  },
  {
   "cell_type": "code",
   "execution_count": 28,
   "metadata": {},
   "outputs": [],
   "source": [
    "from sklearn.naive_bayes import BernoulliNB"
   ]
  },
  {
   "cell_type": "code",
   "execution_count": 29,
   "metadata": {},
   "outputs": [
    {
     "data": {
      "text/plain": [
       "BernoulliNB(alpha=1.0, binarize=0.0, class_prior=None, fit_prior=True)"
      ]
     },
     "execution_count": 29,
     "metadata": {},
     "output_type": "execute_result"
    }
   ],
   "source": [
    "model2 = BernoulliNB()\n",
    "model2.fit(X_train, y_train)"
   ]
  },
  {
   "cell_type": "code",
   "execution_count": 30,
   "metadata": {},
   "outputs": [],
   "source": [
    "labels2 = model2.predict(X_test)"
   ]
  },
  {
   "cell_type": "code",
   "execution_count": 31,
   "metadata": {},
   "outputs": [
    {
     "name": "stdout",
     "output_type": "stream",
     "text": [
      "              precision    recall  f1-score   support\n",
      "\n",
      "           0       0.20      0.05      0.08       962\n",
      "           1       0.03      0.09      0.04       111\n",
      "           2       0.17      0.05      0.08      1024\n",
      "           3       0.41      0.10      0.17      1830\n",
      "           4       0.23      0.41      0.29      1221\n",
      "           5       0.18      0.63      0.28       792\n",
      "           6       0.26      0.18      0.21      1238\n",
      "\n",
      "   micro avg       0.21      0.21      0.21      7178\n",
      "   macro avg       0.21      0.22      0.17      7178\n",
      "weighted avg       0.26      0.21      0.18      7178\n",
      "\n",
      "[[ 49  57  57  56 341 302 100]\n",
      " [  3  10   3  10  33  45   7]\n",
      " [ 47  54  53  54 263 464  89]\n",
      " [ 52  85  79 191 524 658 241]\n",
      " [ 52  74  59  53 497 338 148]\n",
      " [ 17  30  29  35 104 500  77]\n",
      " [ 26  42  34  64 434 411 227]]\n"
     ]
    }
   ],
   "source": [
    "from sklearn import metrics\n",
    "print(metrics.classification_report(y_test, labels2))\n",
    "print(metrics.confusion_matrix(y_test,labels2))"
   ]
  },
  {
   "cell_type": "code",
   "execution_count": 32,
   "metadata": {},
   "outputs": [
    {
     "name": "stdout",
     "output_type": "stream",
     "text": [
      "Number of mislabeled points out of a total 7178 points : 5651, performance 21.27%\n"
     ]
    }
   ],
   "source": [
    "print(\"Number of mislabeled points out of a total {} points : {}, performance {:05.2f}%\"\n",
    "      .format(X_test.shape[0],(y_test != labels2).sum(),100*(1-(y_test != labels2).sum()/X_test.shape[0])))"
   ]
  },
  {
   "cell_type": "code",
   "execution_count": 33,
   "metadata": {},
   "outputs": [],
   "source": [
    "false_P2, true_P2, thresholds2 = metrics.roc_curve(y_test, labels2, pos_label=2)"
   ]
  },
  {
   "cell_type": "code",
   "execution_count": 34,
   "metadata": {},
   "outputs": [
    {
     "data": {
      "image/png": "[encoded data removed]",
      "text/plain": [
       "<Figure size 432x288 with 1 Axes>"
      ]
     },
     "metadata": {},
     "output_type": "display_data"
    }
   ],
   "source": [
    "colors = ['b', 'g']\n",
    "plt.plot(false_P, true_P, colors[0],label = 'Gaussian')\n",
    "plt.plot(false_P2, true_P2, colors[1],label = 'Bernolli')\n",
    "plt.title('Classifiers comparaison with ROC')\n",
    "plt.legend(loc='lower right')\n",
    "plt.plot([0,1],[0,1],'r--')\n",
    "plt.xlim([-0.1,1.2])\n",
    "plt.ylim([-0.1,1.2])\n",
    "plt.ylabel('True Positive Rate')\n",
    "plt.xlabel('False Positive Rate')\n",
    "plt.show()"
   ]
  },
  {
   "cell_type": "code",
   "execution_count": 35,
   "metadata": {},
   "outputs": [
    {
     "data": {
      "text/plain": [
       "array([ 1.5089488 ,  1.5600982 ,  1.5738102 , ..., -0.39696413,\n",
       "       -0.45472115, -0.52667534], dtype=float32)"
      ]
     },
     "execution_count": 35,
     "metadata": {},
     "output_type": "execute_result"
    }
   ],
   "source": [
    "X_train[1]\n",
    "\n",
    "#Can be normalized to get better ans."
   ]
  },
  {
   "cell_type": "markdown",
   "metadata": {},
   "source": [
    "## Reading all the other datasets "
   ]
  },
  {
   "cell_type": "code",
   "execution_count": 36,
   "metadata": {},
   "outputs": [],
   "source": [
    "da = pd.read_csv('fer2018/fer2018angry.csv')\n",
    "dd = pd.read_csv('fer2018/fer2018disgust.csv')\n",
    "df = pd.read_csv('fer2018/fer2018fear.csv')\n",
    "dh = pd.read_csv('fer2018/fer2018happy.csv')\n",
    "dn = pd.read_csv('fer2018/fer2018neutral.csv')\n",
    "ds = pd.read_csv('fer2018/fer2018sad.csv')\n",
    "dsu = pd.read_csv('fer2018/fer2018surprise.csv')"
   ]
  },
  {
   "cell_type": "code",
   "execution_count": 37,
   "metadata": {},
   "outputs": [],
   "source": [
    "def emotion_data_array(x):\n",
    "    emotion_da = pandas_vector_to_list(x)\n",
    "    y_data_da = []\n",
    "    for index in range(len(x)):\n",
    "        y_data_da.append(emotion_da[index])\n",
    "    my_data_da = np.asarray(y_data_da) \n",
    "    return my_data_da"
   ]
  },
  {
   "cell_type": "code",
   "execution_count": 38,
   "metadata": {},
   "outputs": [],
   "source": [
    "my_data_da = emotion_data_array(da['emotion'])\n",
    "my_data_dd = emotion_data_array(dd['emotion'])\n",
    "my_data_df = emotion_data_array(df['emotion'])\n",
    "my_data_dh = emotion_data_array(dh['emotion'])\n",
    "my_data_dn = emotion_data_array(dn['emotion'])\n",
    "my_data_ds = emotion_data_array(ds['emotion'])\n",
    "my_data_dsu = emotion_data_array(dsu['emotion'])"
   ]
  },
  {
   "cell_type": "code",
   "execution_count": 39,
   "metadata": {},
   "outputs": [],
   "source": [
    "def np_image_data(x):\n",
    "    np_image_da = []\n",
    "    for index, item in enumerate(x):\n",
    "        # split space separated ints\n",
    "        pixel_data = item.split()\n",
    "        np_image_da.append(np.array(pixel_data))\n",
    "    np_image_da = np.array(np_image_da)\n",
    "    np_image_da = np_image_da.astype('float32') / 255.0\n",
    "\n",
    "    return np_image_da"
   ]
  },
  {
   "cell_type": "markdown",
   "metadata": {},
   "source": [
    "## Getting the best Pixels of the datasets "
   ]
  },
  {
   "cell_type": "code",
   "execution_count": 40,
   "metadata": {},
   "outputs": [],
   "source": [
    "np_image_da = np_image_data(da['pixels'])\n",
    "np_image_dd = np_image_data(dd['pixels'])\n",
    "np_image_df = np_image_data(df['pixels'])\n",
    "np_image_dh = np_image_data(dh['pixels'])\n",
    "np_image_dn = np_image_data(dn['pixels'])\n",
    "np_image_ds = np_image_data(ds['pixels'])\n",
    "np_image_dsu = np_image_data(dsu['pixels'])"
   ]
  },
  {
   "cell_type": "code",
   "execution_count": 41,
   "metadata": {},
   "outputs": [],
   "source": [
    "import scipy as sp\n",
    "from scipy.stats import pearsonr"
   ]
  },
  {
   "cell_type": "code",
   "execution_count": 42,
   "metadata": {},
   "outputs": [],
   "source": [
    "myarray = np.asarray(y_data)"
   ]
  },
  {
   "cell_type": "code",
   "execution_count": 43,
   "metadata": {},
   "outputs": [],
   "source": [
    "def correlation_data(x, y):\n",
    "    prob_cluster_da = []\n",
    "\n",
    "    for i in range(y.shape[1]):  \n",
    "        k = pearsonr(x,y[:,i])\n",
    "        prob_cluster_da.append(k[0])\n",
    "        \n",
    "    return prob_cluster_da"
   ]
  },
  {
   "cell_type": "code",
   "execution_count": 44,
   "metadata": {},
   "outputs": [],
   "source": [
    "prob_cluster_da = np.array(correlation_data(my_data_da,np_image_da))\n",
    "prob_cluster_dd = np.array(correlation_data(my_data_dd,np_image_dd))\n",
    "prob_cluster_df = np.array(correlation_data(my_data_df,np_image_df))\n",
    "prob_cluster_dh = np.array(correlation_data(my_data_dh,np_image_dh))\n",
    "prob_cluster_ds = np.array(correlation_data(my_data_ds,np_image_ds))\n",
    "prob_cluster_dsu = np.array(correlation_data(my_data_dsu,np_image_dsu))"
   ]
  },
  {
   "cell_type": "code",
   "execution_count": 45,
   "metadata": {},
   "outputs": [],
   "source": [
    "def top_values(x,num):\n",
    "    \n",
    "    top_idx = np.argsort(x)[-num:]\n",
    "    top_values = [x[i] for i in top_idx]\n",
    "    top_idx = np.flip(top_idx,axis=0)\n",
    "    \n",
    "    return(top_idx, top_values)"
   ]
  },
  {
   "cell_type": "markdown",
   "metadata": {},
   "source": [
    "## Using GaussianNB with best features "
   ]
  },
  {
   "cell_type": "code",
   "execution_count": 46,
   "metadata": {},
   "outputs": [],
   "source": [
    "def nb_predict(x_data, y_data):\n",
    "\n",
    "    X_train, X_test, y_train, y_test = train_test_split(x_data, y_data, test_size=0.20)\n",
    "\n",
    "    scaler = StandardScaler()  \n",
    "    scaler.fit(X_train)\n",
    "\n",
    "    X_train = scaler.transform(X_train)  \n",
    "    X_test = scaler.transform(X_test) \n",
    "\n",
    "    classifier = GaussianNB()\n",
    "    classifier.fit(X_train, y_train) \n",
    "\n",
    "    y_pred = classifier.predict(X_test)  \n",
    "    print(metrics.confusion_matrix(y_test, y_pred))  \n",
    "    print(metrics.classification_report(y_test, y_pred))\n",
    "    fp ,tp, thersh = metrics.roc_curve(y_test, y_pred, pos_label=2)\n",
    "    plt.plot(fp, tp, colors[1],label = 'Roc')"
   ]
  },
  {
   "cell_type": "markdown",
   "metadata": {},
   "source": [
    "## With 2 best features "
   ]
  },
  {
   "cell_type": "code",
   "execution_count": 47,
   "metadata": {},
   "outputs": [
    {
     "name": "stdout",
     "output_type": "stream",
     "text": [
      "[[ 35   0  59 324 197 181 175]\n",
      " [  1   0   5  52  20  26  11]\n",
      " [ 17   0  53 323 174 301 177]\n",
      " [ 42   0  61 798 273 303 324]\n",
      " [ 31   0  45 400 282 216 256]\n",
      " [ 10   0  35 174  91 366 136]\n",
      " [ 23   0  29 386 195 182 389]]\n",
      "              precision    recall  f1-score   support\n",
      "\n",
      "           0       0.22      0.04      0.06       971\n",
      "           1       0.00      0.00      0.00       115\n",
      "           2       0.18      0.05      0.08      1045\n",
      "           3       0.32      0.44      0.37      1801\n",
      "           4       0.23      0.23      0.23      1230\n",
      "           5       0.23      0.45      0.31       812\n",
      "           6       0.26      0.32      0.29      1204\n",
      "\n",
      "   micro avg       0.27      0.27      0.27      7178\n",
      "   macro avg       0.21      0.22      0.19      7178\n",
      "weighted avg       0.25      0.27      0.24      7178\n",
      "\n"
     ]
    },
    {
     "name": "stderr",
     "output_type": "stream",
     "text": [
      "/home/bigmb/anaconda3/lib/python3.5/site-packages/sklearn/metrics/classification.py:1143: UndefinedMetricWarning: Precision and F-score are ill-defined and being set to 0.0 in labels with no predicted samples.\n",
      "  'precision', 'predicted', average, warn_for)\n",
      "/home/bigmb/anaconda3/lib/python3.5/site-packages/sklearn/metrics/classification.py:1143: UndefinedMetricWarning: Precision and F-score are ill-defined and being set to 0.0 in labels with no predicted samples.\n",
      "  'precision', 'predicted', average, warn_for)\n",
      "/home/bigmb/anaconda3/lib/python3.5/site-packages/sklearn/metrics/classification.py:1143: UndefinedMetricWarning: Precision and F-score are ill-defined and being set to 0.0 in labels with no predicted samples.\n",
      "  'precision', 'predicted', average, warn_for)\n"
     ]
    },
    {
     "data": {
      "image/png": "[encoded data removed]",
      "text/plain": [
       "<Figure size 432x288 with 1 Axes>"
      ]
     },
     "metadata": {},
     "output_type": "display_data"
    }
   ],
   "source": [
    "cluster_da = top_values(prob_cluster_da,2)\n",
    "cluster_dd = top_values(prob_cluster_dd,2)\n",
    "cluster_df = top_values(prob_cluster_df,2)\n",
    "cluster_dh = top_values(prob_cluster_dh,2)\n",
    "cluster_ds = top_values(prob_cluster_ds,2)\n",
    "cluster_dsu = top_values(prob_cluster_dsu,2)\n",
    "\n",
    "idx_data_2 = np.unique(np.concatenate((cluster_da[0], cluster_dd[0], cluster_df[0], cluster_dh[0], cluster_ds[0], cluster_dsu[0]),axis=0))\n",
    "idx_data = np.asarray(idx_data_2, dtype=int)\n",
    "\n",
    "x_data = np_image_array[:,idx_data]\n",
    "\n",
    "nb_predict(x_data, y_data)"
   ]
  },
  {
   "cell_type": "markdown",
   "metadata": {},
   "source": [
    "## With 5 best features "
   ]
  },
  {
   "cell_type": "code",
   "execution_count": 48,
   "metadata": {},
   "outputs": [
    {
     "name": "stdout",
     "output_type": "stream",
     "text": [
      "[[ 46  12  61 218 252 213 205]\n",
      " [  7   2   5  31  21  31  19]\n",
      " [ 28  15  77 222 170 351 196]\n",
      " [ 52  18  88 610 251 336 404]\n",
      " [ 39   8  84 239 324 236 273]\n",
      " [ 11   5  31 131  80 440 134]\n",
      " [ 13   7  57 269 201 231 424]]\n",
      "              precision    recall  f1-score   support\n",
      "\n",
      "           0       0.23      0.05      0.08      1007\n",
      "           1       0.03      0.02      0.02       116\n",
      "           2       0.19      0.07      0.11      1059\n",
      "           3       0.35      0.35      0.35      1759\n",
      "           4       0.25      0.27      0.26      1203\n",
      "           5       0.24      0.53      0.33       832\n",
      "           6       0.26      0.35      0.30      1202\n",
      "\n",
      "   micro avg       0.27      0.27      0.27      7178\n",
      "   macro avg       0.22      0.23      0.21      7178\n",
      "weighted avg       0.26      0.27      0.24      7178\n",
      "\n"
     ]
    },
    {
     "data": {
      "image/png": "[encoded data removed]",
      "text/plain": [
       "<Figure size 432x288 with 1 Axes>"
      ]
     },
     "metadata": {},
     "output_type": "display_data"
    }
   ],
   "source": [
    "cluster_da = top_values(prob_cluster_da,5)\n",
    "cluster_dd = top_values(prob_cluster_dd,5)\n",
    "cluster_df = top_values(prob_cluster_df,5)\n",
    "cluster_dh = top_values(prob_cluster_dh,5)\n",
    "cluster_ds = top_values(prob_cluster_ds,5)\n",
    "cluster_dsu = top_values(prob_cluster_dsu,5)\n",
    "\n",
    "idx_data_5 = np.unique(np.concatenate((cluster_da[0], cluster_dd[0], cluster_df[0], cluster_dh[0], cluster_ds[0], cluster_dsu[0]),axis=0))\n",
    "idx_data = np.asarray(idx_data_5, dtype=int)\n",
    "\n",
    "x_data = np_image_array[:,idx_data]\n",
    "\n",
    "nb_predict(x_data, y_data)"
   ]
  },
  {
   "cell_type": "markdown",
   "metadata": {},
   "source": [
    "## With 10 best features  "
   ]
  },
  {
   "cell_type": "code",
   "execution_count": 49,
   "metadata": {},
   "outputs": [
    {
     "name": "stdout",
     "output_type": "stream",
     "text": [
      "[[ 32  93  76 160 216 227 219]\n",
      " [  3  15   5  25  14  29  19]\n",
      " [ 15  71  78 117 186 325 205]\n",
      " [ 36 147 100 457 296 369 487]\n",
      " [ 36  80  85 152 323 222 268]\n",
      " [ 10  29  34  78  79 419 161]\n",
      " [ 25  68  61 173 222 221 410]]\n",
      "              precision    recall  f1-score   support\n",
      "\n",
      "           0       0.20      0.03      0.05      1023\n",
      "           1       0.03      0.14      0.05       110\n",
      "           2       0.18      0.08      0.11       997\n",
      "           3       0.39      0.24      0.30      1892\n",
      "           4       0.24      0.28      0.26      1166\n",
      "           5       0.23      0.52      0.32       810\n",
      "           6       0.23      0.35      0.28      1180\n",
      "\n",
      "   micro avg       0.24      0.24      0.24      7178\n",
      "   macro avg       0.22      0.23      0.20      7178\n",
      "weighted avg       0.26      0.24      0.23      7178\n",
      "\n"
     ]
    },
    {
     "data": {
      "image/png": "[encoded data removed]",
      "text/plain": [
       "<Figure size 432x288 with 1 Axes>"
      ]
     },
     "metadata": {},
     "output_type": "display_data"
    }
   ],
   "source": [
    "cluster_da = top_values(prob_cluster_da,10)\n",
    "cluster_dd = top_values(prob_cluster_dd,10)\n",
    "cluster_df = top_values(prob_cluster_df,10)\n",
    "cluster_dh = top_values(prob_cluster_dh,10)\n",
    "cluster_ds = top_values(prob_cluster_ds,10)\n",
    "cluster_dsu = top_values(prob_cluster_dsu,10)\n",
    "\n",
    "idx_data_10 = np.unique(np.concatenate((cluster_da[0], cluster_dd[0], cluster_df[0], cluster_dh[0], cluster_ds[0], cluster_dsu[0]),axis=0))\n",
    "idx_data = np.asarray(idx_data_10, dtype=int)\n",
    "\n",
    "x_data = np_image_array[:,idx_data]\n",
    "\n",
    "nb_predict(x_data, y_data)"
   ]
  },
  {
   "cell_type": "markdown",
   "metadata": {},
   "source": [
    "## With 25 best features  "
   ]
  },
  {
   "cell_type": "code",
   "execution_count": 50,
   "metadata": {},
   "outputs": [
    {
     "name": "stdout",
     "output_type": "stream",
     "text": [
      "[[ 29 238  36  76 217 193 215]\n",
      " [  6  31   1  12  10  25  28]\n",
      " [ 30 187  52  73 161 310 198]\n",
      " [ 55 374  44 315 248 299 447]\n",
      " [ 36 214  40  96 345 209 290]\n",
      " [  6  92  26  41  77 435 138]\n",
      " [ 25 169  35 121 226 208 439]]\n",
      "              precision    recall  f1-score   support\n",
      "\n",
      "           0       0.16      0.03      0.05      1004\n",
      "           1       0.02      0.27      0.04       113\n",
      "           2       0.22      0.05      0.08      1011\n",
      "           3       0.43      0.18      0.25      1782\n",
      "           4       0.27      0.28      0.27      1230\n",
      "           5       0.26      0.53      0.35       815\n",
      "           6       0.25      0.36      0.29      1223\n",
      "\n",
      "   micro avg       0.23      0.23      0.23      7178\n",
      "   macro avg       0.23      0.24      0.19      7178\n",
      "weighted avg       0.28      0.23      0.22      7178\n",
      "\n"
     ]
    },
    {
     "data": {
      "image/png": "[encoded data removed]",
      "text/plain": [
       "<Figure size 432x288 with 1 Axes>"
      ]
     },
     "metadata": {},
     "output_type": "display_data"
    }
   ],
   "source": [
    "cluster_da = top_values(prob_cluster_da,25)\n",
    "cluster_dd = top_values(prob_cluster_dd,25)\n",
    "cluster_df = top_values(prob_cluster_df,25)\n",
    "cluster_dh = top_values(prob_cluster_dh,25)\n",
    "cluster_ds = top_values(prob_cluster_ds,25)\n",
    "cluster_dsu = top_values(prob_cluster_dsu,25)\n",
    "\n",
    "idx_data_25 = np.unique(np.concatenate((cluster_da[0], cluster_dd[0], cluster_df[0], cluster_dh[0], cluster_ds[0], cluster_dsu[0]),axis=0))\n",
    "idx_data = np.asarray(idx_data_25, dtype=int)\n",
    "\n",
    "x_data = np_image_array[:,idx_data]\n",
    "\n",
    "nb_predict(x_data, y_data)"
   ]
  },
  {
   "cell_type": "markdown",
   "metadata": {},
   "source": [
    "## With 50 best features  "
   ]
  },
  {
   "cell_type": "code",
   "execution_count": 51,
   "metadata": {},
   "outputs": [
    {
     "name": "stdout",
     "output_type": "stream",
     "text": [
      "[[ 37 220  51  71 250 203 185]\n",
      " [  4  36   0   7  27  23  18]\n",
      " [ 31 201  47  59 211 292 186]\n",
      " [ 45 417  57 281 287 282 365]\n",
      " [ 37 254  51  68 362 186 275]\n",
      " [ 10 118  28  22  85 432 132]\n",
      " [ 26 209  37 115 259 216 363]]\n",
      "              precision    recall  f1-score   support\n",
      "\n",
      "           0       0.19      0.04      0.06      1017\n",
      "           1       0.02      0.31      0.05       115\n",
      "           2       0.17      0.05      0.07      1027\n",
      "           3       0.45      0.16      0.24      1734\n",
      "           4       0.24      0.29      0.27      1233\n",
      "           5       0.26      0.52      0.35       827\n",
      "           6       0.24      0.30      0.26      1225\n",
      "\n",
      "   micro avg       0.22      0.22      0.22      7178\n",
      "   macro avg       0.23      0.24      0.19      7178\n",
      "weighted avg       0.27      0.22      0.21      7178\n",
      "\n"
     ]
    },
    {
     "data": {
      "image/png": "[encoded data removed]",
      "text/plain": [
       "<Figure size 432x288 with 1 Axes>"
      ]
     },
     "metadata": {},
     "output_type": "display_data"
    }
   ],
   "source": [
    "cluster_da = top_values(prob_cluster_da,50)\n",
    "cluster_dd = top_values(prob_cluster_dd,50)\n",
    "cluster_df = top_values(prob_cluster_df,50)\n",
    "cluster_dh = top_values(prob_cluster_dh,50)\n",
    "cluster_ds = top_values(prob_cluster_ds,50)\n",
    "cluster_dsu = top_values(prob_cluster_dsu,50)\n",
    "\n",
    "idx_data_50 = np.unique(np.concatenate((cluster_da[0], cluster_dd[0], cluster_df[0], cluster_dh[0], cluster_ds[0], cluster_dsu[0]),axis=0))\n",
    "idx_data = np.asarray(idx_data_50, dtype=int)\n",
    "\n",
    "x_data = np_image_array[:,idx_data]\n",
    "\n",
    "nb_predict(x_data, y_data)"
   ]
  },
  {
   "cell_type": "markdown",
   "metadata": {},
   "source": [
    "## Random Forest Classifier with complete dataset"
   ]
  },
  {
   "cell_type": "code",
   "execution_count": 52,
   "metadata": {},
   "outputs": [],
   "source": [
    "from sklearn.ensemble import RandomForestClassifier"
   ]
  },
  {
   "cell_type": "code",
   "execution_count": 53,
   "metadata": {},
   "outputs": [],
   "source": [
    "clf = RandomForestClassifier(n_estimators=7)\n",
    "clf = clf.fit(X_train,y_train)"
   ]
  },
  {
   "cell_type": "code",
   "execution_count": 54,
   "metadata": {},
   "outputs": [],
   "source": [
    "predict1 = clf.predict(X_test)"
   ]
  },
  {
   "cell_type": "code",
   "execution_count": 55,
   "metadata": {},
   "outputs": [
    {
     "name": "stdout",
     "output_type": "stream",
     "text": [
      "              precision    recall  f1-score   support\n",
      "\n",
      "           0       0.21      0.26      0.23       962\n",
      "           1       0.58      0.27      0.37       111\n",
      "           2       0.27      0.31      0.29      1024\n",
      "           3       0.43      0.53      0.47      1830\n",
      "           4       0.28      0.23      0.25      1221\n",
      "           5       0.56      0.46      0.50       792\n",
      "           6       0.36      0.23      0.28      1238\n",
      "\n",
      "   micro avg       0.35      0.35      0.35      7178\n",
      "   macro avg       0.38      0.33      0.34      7178\n",
      "weighted avg       0.36      0.35      0.35      7178\n",
      "\n",
      "[[254   3 167 242 142  47 107]\n",
      " [ 21  30  11  18  20   4   7]\n",
      " [158   4 317 248 123  80  94]\n",
      " [258   5 215 969 195  56 132]\n",
      " [246   3 187 310 285  60 130]\n",
      " [ 68   5 120 127  62 363  47]\n",
      " [212   2 172 336 189  39 288]]\n"
     ]
    }
   ],
   "source": [
    "print(metrics.classification_report(y_test, predict1))\n",
    "print(metrics.confusion_matrix(y_test,predict1))"
   ]
  },
  {
   "cell_type": "code",
   "execution_count": 56,
   "metadata": {},
   "outputs": [],
   "source": [
    "def rf_predict(x_data, y_data):\n",
    "\n",
    "    X_train, X_test, y_train, y_test = train_test_split(x_data, y_data, test_size=0.20)\n",
    "\n",
    "    scaler = StandardScaler()  \n",
    "    scaler.fit(X_train)\n",
    "\n",
    "    X_train = scaler.transform(X_train)  \n",
    "    X_test = scaler.transform(X_test) \n",
    "\n",
    "    classifier = RandomForestClassifier(n_estimators=7)\n",
    "    classifier.fit(X_train, y_train) \n",
    "\n",
    "    y_pred = classifier.predict(X_test)  \n",
    "    print(metrics.confusion_matrix(y_test, y_pred))  \n",
    "    print(metrics.classification_report(y_test, y_pred))"
   ]
  },
  {
   "cell_type": "markdown",
   "metadata": {},
   "source": [
    "## RF With 2 best features  "
   ]
  },
  {
   "cell_type": "code",
   "execution_count": 57,
   "metadata": {},
   "outputs": [
    {
     "name": "stdout",
     "output_type": "stream",
     "text": [
      "[[258  10 144 275 144  56  96]\n",
      " [ 18  29   5  29  16   3   9]\n",
      " [165   6 265 284 117  72 117]\n",
      " [300   5 216 795 189  79 190]\n",
      " [205   4 178 363 227  66 135]\n",
      " [ 98   4 114 155  87 339  57]\n",
      " [194   3 163 402 189  58 245]]\n",
      "              precision    recall  f1-score   support\n",
      "\n",
      "           0       0.21      0.26      0.23       983\n",
      "           1       0.48      0.27      0.34       109\n",
      "           2       0.24      0.26      0.25      1026\n",
      "           3       0.35      0.45      0.39      1774\n",
      "           4       0.23      0.19      0.21      1178\n",
      "           5       0.50      0.40      0.44       854\n",
      "           6       0.29      0.20      0.23      1254\n",
      "\n",
      "   micro avg       0.30      0.30      0.30      7178\n",
      "   macro avg       0.33      0.29      0.30      7178\n",
      "weighted avg       0.30      0.30      0.30      7178\n",
      "\n"
     ]
    }
   ],
   "source": [
    "cluster_da = top_values(prob_cluster_da,2)\n",
    "cluster_dd = top_values(prob_cluster_dd,2)\n",
    "cluster_df = top_values(prob_cluster_df,2)\n",
    "cluster_dh = top_values(prob_cluster_dh,2)\n",
    "cluster_ds = top_values(prob_cluster_ds,2)\n",
    "cluster_dsu = top_values(prob_cluster_dsu,2)\n",
    "\n",
    "idx_data_2 = np.unique(np.concatenate((cluster_da[0], cluster_dd[0], cluster_df[0], cluster_dh[0], cluster_ds[0], cluster_dsu[0]),axis=0))\n",
    "idx_data = np.asarray(idx_data_2, dtype=int)\n",
    "\n",
    "x_data = np_image_array[:,idx_data]\n",
    "\n",
    "rf_predict(x_data, y_data)"
   ]
  },
  {
   "cell_type": "markdown",
   "metadata": {},
   "source": [
    "##  RF With 5 best features "
   ]
  },
  {
   "cell_type": "code",
   "execution_count": 58,
   "metadata": {},
   "outputs": [
    {
     "name": "stdout",
     "output_type": "stream",
     "text": [
      "[[288   6 131 271 159  52 106]\n",
      " [ 22  28  10  20  13  10   8]\n",
      " [161   4 307 235 138  73  94]\n",
      " [311   8 203 863 200  62 211]\n",
      " [174   4 176 348 279  44 128]\n",
      " [ 94   3 108 143  51 376  44]\n",
      " [188   2 189 355 169  60 249]]\n",
      "              precision    recall  f1-score   support\n",
      "\n",
      "           0       0.23      0.28      0.26      1013\n",
      "           1       0.51      0.25      0.34       111\n",
      "           2       0.27      0.30      0.29      1012\n",
      "           3       0.39      0.46      0.42      1858\n",
      "           4       0.28      0.24      0.26      1153\n",
      "           5       0.56      0.46      0.50       819\n",
      "           6       0.30      0.21      0.24      1212\n",
      "\n",
      "   micro avg       0.33      0.33      0.33      7178\n",
      "   macro avg       0.36      0.32      0.33      7178\n",
      "weighted avg       0.34      0.33      0.33      7178\n",
      "\n"
     ]
    }
   ],
   "source": [
    "cluster_da = top_values(prob_cluster_da,5)\n",
    "cluster_dd = top_values(prob_cluster_dd,5)\n",
    "cluster_df = top_values(prob_cluster_df,5)\n",
    "cluster_dh = top_values(prob_cluster_dh,5)\n",
    "cluster_ds = top_values(prob_cluster_ds,5)\n",
    "cluster_dsu = top_values(prob_cluster_dsu,5)\n",
    "\n",
    "idx_data_5 = np.unique(np.concatenate((cluster_da[0], cluster_dd[0], cluster_df[0], cluster_dh[0], cluster_ds[0], cluster_dsu[0]),axis=0))\n",
    "idx_data = np.asarray(idx_data_5, dtype=int)\n",
    "\n",
    "x_data = np_image_array[:,idx_data]\n",
    "\n",
    "rf_predict(x_data, y_data)"
   ]
  },
  {
   "cell_type": "markdown",
   "metadata": {},
   "source": [
    "## RF With 10 best features "
   ]
  },
  {
   "cell_type": "code",
   "execution_count": 59,
   "metadata": {},
   "outputs": [
    {
     "name": "stdout",
     "output_type": "stream",
     "text": [
      "[[269   4 129 277 142  43  88]\n",
      " [ 15  28  10  23  15   7   6]\n",
      " [186   3 287 275 124  80 105]\n",
      " [264   4 201 891 207  71 169]\n",
      " [249   4 203 332 260  52 133]\n",
      " [ 83   0 104 125  62 355  44]\n",
      " [210   1 177 359 164  57 281]]\n",
      "              precision    recall  f1-score   support\n",
      "\n",
      "           0       0.21      0.28      0.24       952\n",
      "           1       0.64      0.27      0.38       104\n",
      "           2       0.26      0.27      0.26      1060\n",
      "           3       0.39      0.49      0.44      1807\n",
      "           4       0.27      0.21      0.24      1233\n",
      "           5       0.53      0.46      0.49       773\n",
      "           6       0.34      0.22      0.27      1249\n",
      "\n",
      "   micro avg       0.33      0.33      0.33      7178\n",
      "   macro avg       0.38      0.32      0.33      7178\n",
      "weighted avg       0.34      0.33      0.33      7178\n",
      "\n"
     ]
    }
   ],
   "source": [
    "cluster_da = top_values(prob_cluster_da,10)\n",
    "cluster_dd = top_values(prob_cluster_dd,10)\n",
    "cluster_df = top_values(prob_cluster_df,10)\n",
    "cluster_dh = top_values(prob_cluster_dh,10)\n",
    "cluster_ds = top_values(prob_cluster_ds,10)\n",
    "cluster_dsu = top_values(prob_cluster_dsu,10)\n",
    "\n",
    "idx_data_10 = np.unique(np.concatenate((cluster_da[0], cluster_dd[0], cluster_df[0], cluster_dh[0], cluster_ds[0], cluster_dsu[0]),axis=0))\n",
    "idx_data = np.asarray(idx_data_10, dtype=int)\n",
    "\n",
    "x_data = np_image_array[:,idx_data]\n",
    "\n",
    "rf_predict(x_data, y_data)"
   ]
  },
  {
   "cell_type": "markdown",
   "metadata": {},
   "source": [
    "## RF With 25 best features "
   ]
  },
  {
   "cell_type": "code",
   "execution_count": 60,
   "metadata": {},
   "outputs": [
    {
     "name": "stdout",
     "output_type": "stream",
     "text": [
      "[[303   1 154 255 147  43  89]\n",
      " [ 14  32  17  28   9   3   8]\n",
      " [188   0 302 226 141  84 122]\n",
      " [264   2 234 883 190  63 173]\n",
      " [224   5 165 335 278  44 127]\n",
      " [ 95   2  83 138  75 368  56]\n",
      " [193   6 176 365 162  41 265]]\n",
      "              precision    recall  f1-score   support\n",
      "\n",
      "           0       0.24      0.31      0.27       992\n",
      "           1       0.67      0.29      0.40       111\n",
      "           2       0.27      0.28      0.28      1063\n",
      "           3       0.40      0.49      0.44      1809\n",
      "           4       0.28      0.24      0.26      1178\n",
      "           5       0.57      0.45      0.50       817\n",
      "           6       0.32      0.22      0.26      1208\n",
      "\n",
      "   micro avg       0.34      0.34      0.34      7178\n",
      "   macro avg       0.39      0.32      0.34      7178\n",
      "weighted avg       0.35      0.34      0.34      7178\n",
      "\n"
     ]
    }
   ],
   "source": [
    "cluster_da = top_values(prob_cluster_da,25)\n",
    "cluster_dd = top_values(prob_cluster_dd,25)\n",
    "cluster_df = top_values(prob_cluster_df,25)\n",
    "cluster_dh = top_values(prob_cluster_dh,25)\n",
    "cluster_ds = top_values(prob_cluster_ds,25)\n",
    "cluster_dsu = top_values(prob_cluster_dsu,25)\n",
    "\n",
    "idx_data_25 = np.unique(np.concatenate((cluster_da[0], cluster_dd[0], cluster_df[0], cluster_dh[0], cluster_ds[0], cluster_dsu[0]),axis=0))\n",
    "idx_data = np.asarray(idx_data_25, dtype=int)\n",
    "\n",
    "x_data = np_image_array[:,idx_data]\n",
    "\n",
    "rf_predict(x_data, y_data)"
   ]
  },
  {
   "cell_type": "markdown",
   "metadata": {},
   "source": [
    "## RF With 50 best features "
   ]
  },
  {
   "cell_type": "code",
   "execution_count": 61,
   "metadata": {},
   "outputs": [
    {
     "name": "stdout",
     "output_type": "stream",
     "text": [
      "[[297   1 140 244 114  42 116]\n",
      " [ 15  36  10  23   9   3   9]\n",
      " [185   5 296 218 136  65 101]\n",
      " [266   5 247 879 188  53 154]\n",
      " [241   2 209 314 289  45 165]\n",
      " [ 77   3 121 143  74 383  43]\n",
      " [186   5 165 348 157  56 295]]\n",
      "              precision    recall  f1-score   support\n",
      "\n",
      "           0       0.23      0.31      0.27       954\n",
      "           1       0.63      0.34      0.44       105\n",
      "           2       0.25      0.29      0.27      1006\n",
      "           3       0.41      0.49      0.44      1792\n",
      "           4       0.30      0.23      0.26      1265\n",
      "           5       0.59      0.45      0.51       844\n",
      "           6       0.33      0.24      0.28      1212\n",
      "\n",
      "   micro avg       0.34      0.34      0.34      7178\n",
      "   macro avg       0.39      0.34      0.35      7178\n",
      "weighted avg       0.36      0.34      0.34      7178\n",
      "\n"
     ]
    }
   ],
   "source": [
    "cluster_da = top_values(prob_cluster_da,50)\n",
    "cluster_dd = top_values(prob_cluster_dd,50)\n",
    "cluster_df = top_values(prob_cluster_df,50)\n",
    "cluster_dh = top_values(prob_cluster_dh,50)\n",
    "cluster_ds = top_values(prob_cluster_ds,50)\n",
    "cluster_dsu = top_values(prob_cluster_dsu,50)\n",
    "\n",
    "idx_data_50 = np.unique(np.concatenate((cluster_da[0], cluster_dd[0], cluster_df[0], cluster_dh[0], cluster_ds[0], cluster_dsu[0]),axis=0))\n",
    "idx_data = np.asarray(idx_data_50, dtype=int)\n",
    "\n",
    "x_data = np_image_array[:,idx_data]\n",
    "\n",
    "rf_predict(x_data, y_data)"
   ]
  },
  {
   "cell_type": "markdown",
   "metadata": {},
   "source": [
    "## RF with 500 images dataset"
   ]
  },
  {
   "cell_type": "code",
   "execution_count": 379,
   "metadata": {},
   "outputs": [],
   "source": [
    "clf500 = RandomForestClassifier(n_estimators=7)\n",
    "clf500 = clf500.fit(X_train500,y_train500)"
   ]
  },
  {
   "cell_type": "code",
   "execution_count": 380,
   "metadata": {},
   "outputs": [],
   "source": [
    "predictRF500 = clf500.predict(X_test500)"
   ]
  },
  {
   "cell_type": "code",
   "execution_count": 381,
   "metadata": {},
   "outputs": [
    {
     "name": "stdout",
     "output_type": "stream",
     "text": [
      "              precision    recall  f1-score   support\n",
      "\n",
      "           0       0.18      0.28      0.22        98\n",
      "           1       0.40      0.40      0.40       107\n",
      "           2       0.16      0.18      0.17       102\n",
      "           3       0.15      0.18      0.16        87\n",
      "           4       0.20      0.12      0.15       113\n",
      "           5       0.32      0.33      0.32        92\n",
      "           6       0.26      0.15      0.19       101\n",
      "\n",
      "   micro avg       0.23      0.23      0.23       700\n",
      "   macro avg       0.24      0.23      0.23       700\n",
      "weighted avg       0.24      0.23      0.23       700\n",
      "\n",
      "[[27  8 17 14  7 14 11]\n",
      " [19 43 17 13  2  6  7]\n",
      " [23 13 18 12 15 15  6]\n",
      " [22 12 14 16  6  8  9]\n",
      " [27 16 21 18 14 13  4]\n",
      " [15  7 12 13 10 30  5]\n",
      " [19  9 14 21 16  7 15]]\n"
     ]
    }
   ],
   "source": [
    "print(metrics.classification_report(y_test500, predictRF500))\n",
    "print(metrics.confusion_matrix(y_test500,predictRF500))"
   ]
  },
  {
   "cell_type": "markdown",
   "metadata": {},
   "source": [
    "## DecisionTreeClassifier with complete dataset"
   ]
  },
  {
   "cell_type": "code",
   "execution_count": 63,
   "metadata": {},
   "outputs": [],
   "source": [
    "from sklearn.tree import DecisionTreeClassifier"
   ]
  },
  {
   "cell_type": "code",
   "execution_count": 64,
   "metadata": {},
   "outputs": [],
   "source": [
    "dy = DecisionTreeClassifier()"
   ]
  },
  {
   "cell_type": "code",
   "execution_count": 65,
   "metadata": {},
   "outputs": [
    {
     "data": {
      "text/plain": [
       "DecisionTreeClassifier(class_weight=None, criterion='gini', max_depth=None,\n",
       "            max_features=None, max_leaf_nodes=None,\n",
       "            min_impurity_decrease=0.0, min_impurity_split=None,\n",
       "            min_samples_leaf=1, min_samples_split=2,\n",
       "            min_weight_fraction_leaf=0.0, presort=False, random_state=None,\n",
       "            splitter='best')"
      ]
     },
     "execution_count": 65,
     "metadata": {},
     "output_type": "execute_result"
    }
   ],
   "source": [
    "dy.fit(X_train,y_train)"
   ]
  },
  {
   "cell_type": "code",
   "execution_count": 67,
   "metadata": {},
   "outputs": [],
   "source": [
    "tan_P = dy.predict(X_test)"
   ]
  },
  {
   "cell_type": "code",
   "execution_count": 68,
   "metadata": {},
   "outputs": [
    {
     "name": "stdout",
     "output_type": "stream",
     "text": [
      "              precision    recall  f1-score   support\n",
      "\n",
      "           0       0.22      0.23      0.23       962\n",
      "           1       0.27      0.26      0.27       111\n",
      "           2       0.24      0.26      0.25      1024\n",
      "           3       0.43      0.42      0.42      1830\n",
      "           4       0.25      0.24      0.25      1221\n",
      "           5       0.44      0.48      0.46       792\n",
      "           6       0.28      0.26      0.27      1238\n",
      "\n",
      "   micro avg       0.32      0.32      0.32      7178\n",
      "   macro avg       0.30      0.31      0.31      7178\n",
      "weighted avg       0.32      0.32      0.32      7178\n",
      "\n",
      "[[220  17 129 194 188  66 148]\n",
      " [  9  29  15  22  16   9  11]\n",
      " [146   6 263 210 140  97 162]\n",
      " [209  19 228 763 243 123 245]\n",
      " [158  14 214 239 299 109 188]\n",
      " [ 66   7  89 100  72 383  75]\n",
      " [171  14 177 250 220  86 320]]\n"
     ]
    }
   ],
   "source": [
    "print(metrics.classification_report(y_test, tan_P))\n",
    "print(metrics.confusion_matrix(y_test,tan_P))"
   ]
  },
  {
   "cell_type": "markdown",
   "metadata": {},
   "source": [
    "## DT With 50 best features "
   ]
  },
  {
   "cell_type": "code",
   "execution_count": 253,
   "metadata": {},
   "outputs": [
    {
     "name": "stdout",
     "output_type": "stream",
     "text": [
      "[[19 12 10 17 13 12 12]\n",
      " [20 55 13 17  8  5  5]\n",
      " [23 10 20 11 12  9  8]\n",
      " [18 16 15 19  7  8  9]\n",
      " [32 17 17 13 17  7  7]\n",
      " [17 13 14  9  6 33  5]\n",
      " [14 14 10 16 17  4 15]]\n",
      "              precision    recall  f1-score   support\n",
      "\n",
      "           0       0.13      0.20      0.16        95\n",
      "           1       0.40      0.45      0.42       123\n",
      "           2       0.20      0.22      0.21        93\n",
      "           3       0.19      0.21      0.20        92\n",
      "           4       0.21      0.15      0.18       110\n",
      "           5       0.42      0.34      0.38        97\n",
      "           6       0.25      0.17      0.20        90\n",
      "\n",
      "   micro avg       0.25      0.25      0.25       700\n",
      "   macro avg       0.26      0.25      0.25       700\n",
      "weighted avg       0.26      0.25      0.26       700\n",
      "\n"
     ]
    }
   ],
   "source": [
    "cluster_da = top_values(prob_cluster_da,50)\n",
    "cluster_dd = top_values(prob_cluster_dd,50)\n",
    "cluster_df = top_values(prob_cluster_df,50)\n",
    "cluster_dh = top_values(prob_cluster_dh,50)\n",
    "cluster_ds = top_values(prob_cluster_ds,50)\n",
    "cluster_dsu = top_values(prob_cluster_dsu,50)\n",
    "\n",
    "idx_data_50 = np.unique(np.concatenate((cluster_da[0], cluster_dd[0], cluster_df[0], cluster_dh[0], cluster_ds[0], cluster_dsu[0]),axis=0))\n",
    "idx_data = np.asarray(idx_data_50, dtype=int)\n",
    "\n",
    "x_data1 = np_image_array1[:,idx_data]\n",
    "\n",
    "rf_predict(x_data1, y_data1)"
   ]
  },
  {
   "cell_type": "markdown",
   "metadata": {},
   "source": [
    "## DT with 500 image dataset "
   ]
  },
  {
   "cell_type": "code",
   "execution_count": 382,
   "metadata": {},
   "outputs": [
    {
     "data": {
      "text/plain": [
       "DecisionTreeClassifier(class_weight=None, criterion='gini', max_depth=None,\n",
       "            max_features=None, max_leaf_nodes=None,\n",
       "            min_impurity_decrease=0.0, min_impurity_split=None,\n",
       "            min_samples_leaf=1, min_samples_split=2,\n",
       "            min_weight_fraction_leaf=0.0, presort=False, random_state=None,\n",
       "            splitter='best')"
      ]
     },
     "execution_count": 382,
     "metadata": {},
     "output_type": "execute_result"
    }
   ],
   "source": [
    "dy500 = DecisionTreeClassifier()\n",
    "dy500.fit(X_train500,y_train500)"
   ]
  },
  {
   "cell_type": "code",
   "execution_count": 383,
   "metadata": {},
   "outputs": [],
   "source": [
    "tan_P500 = dy.predict(X_test500)"
   ]
  },
  {
   "cell_type": "code",
   "execution_count": 384,
   "metadata": {},
   "outputs": [
    {
     "name": "stdout",
     "output_type": "stream",
     "text": [
      "              precision    recall  f1-score   support\n",
      "\n",
      "           0       0.74      0.77      0.75        98\n",
      "           1       0.97      0.58      0.73       107\n",
      "           2       0.64      0.64      0.64       102\n",
      "           3       0.60      0.85      0.70        87\n",
      "           4       0.75      0.78      0.76       113\n",
      "           5       0.84      0.78      0.81        92\n",
      "           6       0.70      0.74      0.72       101\n",
      "\n",
      "   micro avg       0.73      0.73      0.73       700\n",
      "   macro avg       0.75      0.73      0.73       700\n",
      "weighted avg       0.75      0.73      0.73       700\n",
      "\n",
      "[[75  1  5  8  6  0  3]\n",
      " [ 4 62  6 16  7  4  8]\n",
      " [11  0 65  8  6  6  6]\n",
      " [ 0  1  4 74  2  1  5]\n",
      " [ 6  0  6  7 88  1  5]\n",
      " [ 0  0  8  3  4 72  5]\n",
      " [ 5  0  7  7  5  2 75]]\n"
     ]
    }
   ],
   "source": [
    "print(metrics.classification_report(y_test500, tan_P500))\n",
    "print(metrics.confusion_matrix(y_test500,tan_P500))"
   ]
  },
  {
   "cell_type": "markdown",
   "metadata": {},
   "source": [
    "## Agglomerative clustering "
   ]
  },
  {
   "cell_type": "code",
   "execution_count": 364,
   "metadata": {},
   "outputs": [],
   "source": [
    "from sklearn.cluster import AgglomerativeClustering"
   ]
  },
  {
   "cell_type": "code",
   "execution_count": 368,
   "metadata": {},
   "outputs": [
    {
     "data": {
      "text/plain": [
       "AgglomerativeClustering(affinity='euclidean', compute_full_tree='auto',\n",
       "            connectivity=None, linkage='ward', memory=None, n_clusters=7,\n",
       "            pooling_func='deprecated')"
      ]
     },
     "execution_count": 368,
     "metadata": {},
     "output_type": "execute_result"
    }
   ],
   "source": [
    "agglomerative = AgglomerativeClustering(n_clusters=7, linkage=\"ward\")\n",
    "agglomerative.fit(X_train500)"
   ]
  },
  {
   "cell_type": "code",
   "execution_count": 370,
   "metadata": {},
   "outputs": [],
   "source": [
    "predictionsagg = agglomerative.fit_predict(X_train500,y_train500)"
   ]
  },
  {
   "cell_type": "code",
   "execution_count": 371,
   "metadata": {},
   "outputs": [
    {
     "name": "stdout",
     "output_type": "stream",
     "text": [
      "              precision    recall  f1-score   support\n",
      "\n",
      "           0       0.10      0.12      0.11       402\n",
      "           1       0.19      0.11      0.14       393\n",
      "           2       0.18      0.29      0.22       398\n",
      "           3       0.16      0.12      0.14       413\n",
      "           4       0.12      0.09      0.11       387\n",
      "           5       0.26      0.27      0.27       408\n",
      "           6       0.17      0.16      0.16       399\n",
      "\n",
      "   micro avg       0.17      0.17      0.17      2800\n",
      "   macro avg       0.17      0.17      0.16      2800\n",
      "weighted avg       0.17      0.17      0.16      2800\n",
      "\n",
      "[[ 50  40  97  56  52  44  63]\n",
      " [ 76  43  80  22  39  81  52]\n",
      " [ 62  35 117  40  33  62  49]\n",
      " [ 92  36  87  50  47  52  49]\n",
      " [ 57  25 103  75  36  34  57]\n",
      " [ 93  16  99  12  39 112  37]\n",
      " [ 87  35  72  55  43  44  63]]\n"
     ]
    }
   ],
   "source": [
    "print(metrics.classification_report(y_train500, predictionsagg))\n",
    "print(metrics.confusion_matrix(y_train500,predictionsagg))"
   ]
  },
  {
   "cell_type": "markdown",
   "metadata": {},
   "source": [
    "## K means with complete dataset "
   ]
  },
  {
   "cell_type": "code",
   "execution_count": 348,
   "metadata": {},
   "outputs": [],
   "source": [
    "from sklearn.cluster import KMeans"
   ]
  },
  {
   "cell_type": "code",
   "execution_count": 349,
   "metadata": {},
   "outputs": [],
   "source": [
    "modelKM = KMeans(n_clusters=7)"
   ]
  },
  {
   "cell_type": "code",
   "execution_count": 350,
   "metadata": {},
   "outputs": [
    {
     "data": {
      "text/plain": [
       "KMeans(algorithm='auto', copy_x=True, init='k-means++', max_iter=300,\n",
       "    n_clusters=7, n_init=10, n_jobs=None, precompute_distances='auto',\n",
       "    random_state=None, tol=0.0001, verbose=0)"
      ]
     },
     "execution_count": 350,
     "metadata": {},
     "output_type": "execute_result"
    }
   ],
   "source": [
    "modelKM.fit(X_train,y_train)"
   ]
  },
  {
   "cell_type": "code",
   "execution_count": 351,
   "metadata": {},
   "outputs": [],
   "source": [
    "predictionsUn = modelKM.predict(X_train)"
   ]
  },
  {
   "cell_type": "code",
   "execution_count": 352,
   "metadata": {},
   "outputs": [
    {
     "name": "stdout",
     "output_type": "stream",
     "text": [
      "[0 4 1 ... 2 3 4]\n"
     ]
    }
   ],
   "source": [
    "print(predictionsUn)"
   ]
  },
  {
   "cell_type": "code",
   "execution_count": 278,
   "metadata": {},
   "outputs": [
    {
     "data": {
      "text/plain": [
       "28709"
      ]
     },
     "execution_count": 278,
     "metadata": {},
     "output_type": "execute_result"
    }
   ],
   "source": [
    "predictionsUn.size"
   ]
  },
  {
   "cell_type": "code",
   "execution_count": 279,
   "metadata": {},
   "outputs": [
    {
     "data": {
      "text/plain": [
       "28709"
      ]
     },
     "execution_count": 279,
     "metadata": {},
     "output_type": "execute_result"
    }
   ],
   "source": [
    "len(X_train)"
   ]
  },
  {
   "cell_type": "code",
   "execution_count": 353,
   "metadata": {},
   "outputs": [
    {
     "name": "stdout",
     "output_type": "stream",
     "text": [
      "              precision    recall  f1-score   support\n",
      "\n",
      "           0       0.15      0.17      0.16      3999\n",
      "           1       0.01      0.07      0.02       446\n",
      "           2       0.18      0.16      0.17      4068\n",
      "           3       0.22      0.12      0.16      7202\n",
      "           4       0.15      0.13      0.14      4840\n",
      "           5       0.13      0.19      0.15      3198\n",
      "           6       0.17      0.14      0.15      4956\n",
      "\n",
      "   micro avg       0.15      0.15      0.15     28709\n",
      "   macro avg       0.14      0.14      0.14     28709\n",
      "weighted avg       0.17      0.15      0.15     28709\n",
      "\n",
      "[[ 667  564  548  451  498  604  667]\n",
      " [  60   32   53   76   81   79   65]\n",
      " [ 655  360  661  736  455  662  539]\n",
      " [1001  791  721  889 1442 1306 1052]\n",
      " [ 827  913  514  481  652  590  863]\n",
      " [ 416  133  512  893  428  592  224]\n",
      " [ 700  813  607  511  925  700  700]]\n"
     ]
    }
   ],
   "source": [
    "print(metrics.classification_report(y_train, predictionsUn))\n",
    "print(metrics.confusion_matrix(y_train,predictionsUn))"
   ]
  },
  {
   "cell_type": "markdown",
   "metadata": {},
   "source": [
    "## KMeans with 500 image dataset "
   ]
  },
  {
   "cell_type": "code",
   "execution_count": 281,
   "metadata": {},
   "outputs": [],
   "source": [
    "modelK500 = KMeans(n_clusters=7)"
   ]
  },
  {
   "cell_type": "code",
   "execution_count": 282,
   "metadata": {},
   "outputs": [
    {
     "data": {
      "text/plain": [
       "KMeans(algorithm='auto', copy_x=True, init='k-means++', max_iter=300,\n",
       "    n_clusters=7, n_init=10, n_jobs=None, precompute_distances='auto',\n",
       "    random_state=None, tol=0.0001, verbose=0)"
      ]
     },
     "execution_count": 282,
     "metadata": {},
     "output_type": "execute_result"
    }
   ],
   "source": [
    "modelK.fit(X_train,y_train)"
   ]
  },
  {
   "cell_type": "code",
   "execution_count": 283,
   "metadata": {},
   "outputs": [],
   "source": [
    "predictionsUn500 = modelK.predict(X_train500)"
   ]
  },
  {
   "cell_type": "code",
   "execution_count": 287,
   "metadata": {},
   "outputs": [
    {
     "name": "stdout",
     "output_type": "stream",
     "text": [
      "              precision    recall  f1-score   support\n",
      "\n",
      "           0       0.15      0.14      0.14      3947\n",
      "           1       0.02      0.16      0.03       442\n",
      "           2       0.15      0.15      0.15      4109\n",
      "           3       0.22      0.11      0.15      7203\n",
      "           4       0.22      0.19      0.20      4883\n",
      "           5       0.22      0.27      0.24      3194\n",
      "           6       0.21      0.18      0.20      4931\n",
      "\n",
      "   micro avg       0.17      0.17      0.17     28709\n",
      "   macro avg       0.17      0.17      0.16     28709\n",
      "weighted avg       0.19      0.17      0.17     28709\n",
      "\n",
      "[[ 551  592  630  574  669  451  480]\n",
      " [  54   72   56   36   65   80   79]\n",
      " [ 658  654  617  381  580  747  472]\n",
      " [ 743 1263  993  811 1077  901 1415]\n",
      " [ 535  563  818  945  906  474  642]\n",
      " [ 535  596  418  142  233  873  397]\n",
      " [ 643  730  636  850  661  501  910]]\n"
     ]
    }
   ],
   "source": [
    "print(metrics.classification_report(y_train, predictionsUn))\n",
    "print(metrics.confusion_matrix(y_train,predictionsUn))"
   ]
  },
  {
   "cell_type": "code",
   "execution_count": 354,
   "metadata": {},
   "outputs": [],
   "source": [
    "modelKMean500 = KMeans(n_clusters=7)"
   ]
  },
  {
   "cell_type": "code",
   "execution_count": 355,
   "metadata": {},
   "outputs": [
    {
     "data": {
      "text/plain": [
       "KMeans(algorithm='auto', copy_x=True, init='k-means++', max_iter=300,\n",
       "    n_clusters=7, n_init=10, n_jobs=None, precompute_distances='auto',\n",
       "    random_state=None, tol=0.0001, verbose=0)"
      ]
     },
     "execution_count": 355,
     "metadata": {},
     "output_type": "execute_result"
    }
   ],
   "source": [
    "modelKMean500.fit(X_train500,y_train500)"
   ]
  },
  {
   "cell_type": "code",
   "execution_count": 357,
   "metadata": {},
   "outputs": [],
   "source": [
    "predictionsUnKM500 = modelKMean500.predict(X_train500)"
   ]
  },
  {
   "cell_type": "code",
   "execution_count": 358,
   "metadata": {},
   "outputs": [
    {
     "name": "stdout",
     "output_type": "stream",
     "text": [
      "              precision    recall  f1-score   support\n",
      "\n",
      "           0       0.16      0.14      0.15       402\n",
      "           1       0.19      0.20      0.20       393\n",
      "           2       0.10      0.11      0.10       398\n",
      "           3       0.12      0.13      0.12       413\n",
      "           4       0.23      0.25      0.24       387\n",
      "           5       0.22      0.21      0.21       408\n",
      "           6       0.16      0.13      0.15       399\n",
      "\n",
      "   micro avg       0.17      0.17      0.17      2800\n",
      "   macro avg       0.17      0.17      0.17      2800\n",
      "weighted avg       0.17      0.17      0.17      2800\n",
      "\n",
      "[[ 57  43  60  77  74  43  48]\n",
      " [ 52  79  67  48  45  58  44]\n",
      " [ 56  62  43  78  51  63  45]\n",
      " [ 55  49  87  53  58  59  52]\n",
      " [ 54  33  52  73  98  35  42]\n",
      " [ 42 106  53  64  16  86  41]\n",
      " [ 37  43  81  54  79  52  53]]\n"
     ]
    }
   ],
   "source": [
    "print(metrics.classification_report(y_train500, predictionsUnKM500))\n",
    "print(metrics.confusion_matrix(y_train500,predictionsUnKM500))"
   ]
  },
  {
   "cell_type": "markdown",
   "metadata": {},
   "source": [
    "## Kmeans using the same predictions as input "
   ]
  },
  {
   "cell_type": "code",
   "execution_count": 359,
   "metadata": {},
   "outputs": [],
   "source": [
    "modeltry = KMeans()"
   ]
  },
  {
   "cell_type": "code",
   "execution_count": 360,
   "metadata": {},
   "outputs": [
    {
     "data": {
      "text/plain": [
       "KMeans(algorithm='auto', copy_x=True, init='k-means++', max_iter=300,\n",
       "    n_clusters=8, n_init=10, n_jobs=None, precompute_distances='auto',\n",
       "    random_state=None, tol=0.0001, verbose=0)"
      ]
     },
     "execution_count": 360,
     "metadata": {},
     "output_type": "execute_result"
    }
   ],
   "source": [
    "modeltry.fit(X_train500,y_train500)"
   ]
  },
  {
   "cell_type": "code",
   "execution_count": 361,
   "metadata": {},
   "outputs": [],
   "source": [
    "predictionstry = modeltry.predict(X_train500)"
   ]
  },
  {
   "cell_type": "code",
   "execution_count": 362,
   "metadata": {},
   "outputs": [
    {
     "name": "stdout",
     "output_type": "stream",
     "text": [
      "              precision    recall  f1-score   support\n",
      "\n",
      "           0       0.17      0.13      0.14       402\n",
      "           1       0.10      0.09      0.10       393\n",
      "           2       0.10      0.10      0.10       398\n",
      "           3       0.16      0.13      0.14       413\n",
      "           4       0.11      0.07      0.08       387\n",
      "           5       0.07      0.06      0.06       408\n",
      "           6       0.11      0.10      0.11       399\n",
      "           7       0.00      0.00      0.00         0\n",
      "\n",
      "   micro avg       0.10      0.10      0.10      2800\n",
      "   macro avg       0.10      0.08      0.09      2800\n",
      "weighted avg       0.12      0.10      0.11      2800\n",
      "\n",
      "[[51 60 50 41 41 59 33 67]\n",
      " [47 35 67 46 25 51 74 48]\n",
      " [53 38 41 59 32 44 58 73]\n",
      " [48 46 80 54 33 54 45 53]\n",
      " [38 74 48 32 26 72 30 67]\n",
      " [38 16 59 70 37 24 92 72]\n",
      " [32 66 73 40 40 58 41 49]\n",
      " [ 0  0  0  0  0  0  0  0]]\n"
     ]
    },
    {
     "name": "stderr",
     "output_type": "stream",
     "text": [
      "/home/bigmb/anaconda3/lib/python3.5/site-packages/sklearn/metrics/classification.py:1145: UndefinedMetricWarning: Recall and F-score are ill-defined and being set to 0.0 in labels with no true samples.\n",
      "  'recall', 'true', average, warn_for)\n",
      "/home/bigmb/anaconda3/lib/python3.5/site-packages/sklearn/metrics/classification.py:1145: UndefinedMetricWarning: Recall and F-score are ill-defined and being set to 0.0 in labels with no true samples.\n",
      "  'recall', 'true', average, warn_for)\n",
      "/home/bigmb/anaconda3/lib/python3.5/site-packages/sklearn/metrics/classification.py:1145: UndefinedMetricWarning: Recall and F-score are ill-defined and being set to 0.0 in labels with no true samples.\n",
      "  'recall', 'true', average, warn_for)\n"
     ]
    }
   ],
   "source": [
    "print(metrics.classification_report(y_train500, predictionstry))\n",
    "print(metrics.confusion_matrix(y_train500,predictionstry))"
   ]
  },
  {
   "cell_type": "markdown",
   "metadata": {},
   "source": [
    "###  Keras Model"
   ]
  },
  {
   "cell_type": "code",
   "execution_count": 325,
   "metadata": {},
   "outputs": [],
   "source": [
    "import sys, os\n",
    "from keras.models import Sequential\n",
    "from keras.layers import Dense, Dropout, Activation, Flatten\n",
    "from keras.layers import Conv2D, MaxPooling2D, BatchNormalization\n",
    "from keras.losses import categorical_crossentropy\n",
    "from keras.optimizers import Adam\n",
    "from keras.regularizers import l2\n",
    "from keras.callbacks import ReduceLROnPlateau, TensorBoard, EarlyStopping, ModelCheckpoint\n",
    "from keras.models import load_model"
   ]
  },
  {
   "cell_type": "code",
   "execution_count": 326,
   "metadata": {},
   "outputs": [],
   "source": [
    "num_features = 64\n",
    "num_labels = 7\n",
    "batch_size = 64\n",
    "epochs = 100\n",
    "width, height = 48, 48"
   ]
  },
  {
   "cell_type": "code",
   "execution_count": 327,
   "metadata": {},
   "outputs": [],
   "source": [
    "dataK = pd.read_csv('fer2018/fer2018.csv')"
   ]
  },
  {
   "cell_type": "code",
   "execution_count": 329,
   "metadata": {},
   "outputs": [
    {
     "name": "stderr",
     "output_type": "stream",
     "text": [
      "/home/bigmb/anaconda3/lib/python3.5/site-packages/ipykernel_launcher.py:17: FutureWarning: Method .as_matrix will be removed in a future version. Use .values instead.\n"
     ]
    }
   ],
   "source": [
    "pixels = dataK['pixels'].tolist() \n",
    "\n",
    "faces = []\n",
    "for pixel_sequence in pixels:\n",
    "    face = [int(pixel) for pixel in pixel_sequence.split(' ')] \n",
    "    face = np.asarray(face).reshape(width, height) \n",
    "    faces.append(face.astype('float32'))\n",
    "\n",
    "faces = np.asarray(faces)\n",
    "faces = np.expand_dims(faces, -1) \n",
    "\n",
    "emotions = pd.get_dummies(dataK['emotion']).as_matrix() "
   ]
  },
  {
   "cell_type": "code",
   "execution_count": 330,
   "metadata": {},
   "outputs": [],
   "source": [
    "XK_train, XK_test, yK_train, yK_test = train_test_split(faces, emotions, test_size=0.15, random_state=42)\n",
    "XK_train, XK_val, yK_train, yK_val = train_test_split(XK_train, yK_train, test_size=0.15, random_state=41)"
   ]
  },
  {
   "cell_type": "code",
   "execution_count": 331,
   "metadata": {},
   "outputs": [],
   "source": [
    "modelK = Sequential()\n",
    "\n",
    "modelK.add(Conv2D(num_features, kernel_size=(3, 3), activation='relu', input_shape=(width, height, 1), data_format='channels_last', kernel_regularizer=l2(0.01)))\n",
    "modelK.add(Conv2D(num_features, kernel_size=(3, 3), activation='relu', padding='same'))\n",
    "modelK.add(BatchNormalization())\n",
    "modelK.add(MaxPooling2D(pool_size=(2, 2), strides=(2, 2)))\n",
    "modelK.add(Dropout(0.5))\n",
    "\n",
    "modelK.add(Conv2D(2*num_features, kernel_size=(3, 3), activation='relu', padding='same'))\n",
    "modelK.add(BatchNormalization())\n",
    "modelK.add(Conv2D(2*num_features, kernel_size=(3, 3), activation='relu', padding='same'))\n",
    "modelK.add(BatchNormalization())\n",
    "modelK.add(MaxPooling2D(pool_size=(2, 2), strides=(2, 2)))\n",
    "modelK.add(Dropout(0.5))\n",
    "\n",
    "modelK.add(Conv2D(2*2*num_features, kernel_size=(3, 3), activation='relu', padding='same'))\n",
    "modelK.add(BatchNormalization())\n",
    "modelK.add(Conv2D(2*2*num_features, kernel_size=(3, 3), activation='relu', padding='same'))\n",
    "modelK.add(BatchNormalization())\n",
    "modelK.add(MaxPooling2D(pool_size=(2, 2), strides=(2, 2)))\n",
    "modelK.add(Dropout(0.5))\n",
    "\n",
    "modelK.add(Conv2D(2*2*2*num_features, kernel_size=(3, 3), activation='relu', padding='same'))\n",
    "modelK.add(BatchNormalization())\n",
    "modelK.add(Conv2D(2*2*2*num_features, kernel_size=(3, 3), activation='relu', padding='same'))\n",
    "modelK.add(BatchNormalization())\n",
    "modelK.add(MaxPooling2D(pool_size=(2, 2), strides=(2, 2)))\n",
    "modelK.add(Dropout(0.5))\n",
    "\n",
    "modelK.add(Flatten())\n",
    "\n",
    "modelK.add(Dense(2*2*2*num_features, activation='relu'))\n",
    "modelK.add(Dropout(0.4))\n",
    "modelK.add(Dense(2*2*num_features, activation='relu'))\n",
    "modelK.add(Dropout(0.4))\n",
    "modelK.add(Dense(2*num_features, activation='relu'))\n",
    "modelK.add(Dropout(0.5))\n",
    "\n",
    "modelK.add(Dense(num_labels, activation='softmax'))"
   ]
  },
  {
   "cell_type": "code",
   "execution_count": 332,
   "metadata": {},
   "outputs": [
    {
     "name": "stdout",
     "output_type": "stream",
     "text": [
      "_________________________________________________________________\n",
      "Layer (type)                 Output Shape              Param #   \n",
      "=================================================================\n",
      "conv2d_14 (Conv2D)           (None, 46, 46, 64)        640       \n",
      "_________________________________________________________________\n",
      "conv2d_15 (Conv2D)           (None, 46, 46, 64)        36928     \n",
      "_________________________________________________________________\n",
      "batch_normalization_1 (Batch (None, 46, 46, 64)        256       \n",
      "_________________________________________________________________\n",
      "max_pooling2d_4 (MaxPooling2 (None, 23, 23, 64)        0         \n",
      "_________________________________________________________________\n",
      "dropout_5 (Dropout)          (None, 23, 23, 64)        0         \n",
      "_________________________________________________________________\n",
      "conv2d_16 (Conv2D)           (None, 23, 23, 128)       73856     \n",
      "_________________________________________________________________\n",
      "batch_normalization_2 (Batch (None, 23, 23, 128)       512       \n",
      "_________________________________________________________________\n",
      "conv2d_17 (Conv2D)           (None, 23, 23, 128)       147584    \n",
      "_________________________________________________________________\n",
      "batch_normalization_3 (Batch (None, 23, 23, 128)       512       \n",
      "_________________________________________________________________\n",
      "max_pooling2d_5 (MaxPooling2 (None, 11, 11, 128)       0         \n",
      "_________________________________________________________________\n",
      "dropout_6 (Dropout)          (None, 11, 11, 128)       0         \n",
      "_________________________________________________________________\n",
      "conv2d_18 (Conv2D)           (None, 11, 11, 256)       295168    \n",
      "_________________________________________________________________\n",
      "batch_normalization_4 (Batch (None, 11, 11, 256)       1024      \n",
      "_________________________________________________________________\n",
      "conv2d_19 (Conv2D)           (None, 11, 11, 256)       590080    \n",
      "_________________________________________________________________\n",
      "batch_normalization_5 (Batch (None, 11, 11, 256)       1024      \n",
      "_________________________________________________________________\n",
      "max_pooling2d_6 (MaxPooling2 (None, 5, 5, 256)         0         \n",
      "_________________________________________________________________\n",
      "dropout_7 (Dropout)          (None, 5, 5, 256)         0         \n",
      "_________________________________________________________________\n",
      "conv2d_20 (Conv2D)           (None, 5, 5, 512)         1180160   \n",
      "_________________________________________________________________\n",
      "batch_normalization_6 (Batch (None, 5, 5, 512)         2048      \n",
      "_________________________________________________________________\n",
      "conv2d_21 (Conv2D)           (None, 5, 5, 512)         2359808   \n",
      "_________________________________________________________________\n",
      "batch_normalization_7 (Batch (None, 5, 5, 512)         2048      \n",
      "_________________________________________________________________\n",
      "max_pooling2d_7 (MaxPooling2 (None, 2, 2, 512)         0         \n",
      "_________________________________________________________________\n",
      "dropout_8 (Dropout)          (None, 2, 2, 512)         0         \n",
      "_________________________________________________________________\n",
      "flatten_3 (Flatten)          (None, 2048)              0         \n",
      "_________________________________________________________________\n",
      "dense_6 (Dense)              (None, 512)               1049088   \n",
      "_________________________________________________________________\n",
      "dropout_9 (Dropout)          (None, 512)               0         \n",
      "_________________________________________________________________\n",
      "dense_7 (Dense)              (None, 256)               131328    \n",
      "_________________________________________________________________\n",
      "dropout_10 (Dropout)         (None, 256)               0         \n",
      "_________________________________________________________________\n",
      "dense_8 (Dense)              (None, 128)               32896     \n",
      "_________________________________________________________________\n",
      "dropout_11 (Dropout)         (None, 128)               0         \n",
      "_________________________________________________________________\n",
      "dense_9 (Dense)              (None, 7)                 903       \n",
      "=================================================================\n",
      "Total params: 5,905,863\n",
      "Trainable params: 5,902,151\n",
      "Non-trainable params: 3,712\n",
      "_________________________________________________________________\n"
     ]
    }
   ],
   "source": [
    "modelK.summary()"
   ]
  },
  {
   "cell_type": "code",
   "execution_count": 333,
   "metadata": {},
   "outputs": [],
   "source": [
    "modelK.compile(loss=categorical_crossentropy,\n",
    "              optimizer=Adam(lr=0.001, beta_1=0.9, beta_2=0.999, epsilon=1e-7),\n",
    "              metrics=['accuracy'])"
   ]
  },
  {
   "cell_type": "code",
   "execution_count": 335,
   "metadata": {},
   "outputs": [],
   "source": [
    "lr_reducer = ReduceLROnPlateau(monitor='val_loss', factor=0.9, patience=3, verbose=1)"
   ]
  },
  {
   "cell_type": "code",
   "execution_count": 336,
   "metadata": {},
   "outputs": [],
   "source": [
    "early_stopper = EarlyStopping(monitor='val_loss', min_delta=0, patience=8, verbose=1, mode='auto')"
   ]
  },
  {
   "cell_type": "code",
   "execution_count": 338,
   "metadata": {},
   "outputs": [],
   "source": [
    "MODELPATH = './model.h5'\n",
    "checkpointer = ModelCheckpoint(MODELPATH, monitor='val_loss', verbose=1, save_best_only=True)"
   ]
  },
  {
   "cell_type": "code",
   "execution_count": 339,
   "metadata": {},
   "outputs": [],
   "source": [
    "tensorboard = TensorBoard(log_dir='./logs')"
   ]
  },
  {
   "cell_type": "code",
   "execution_count": 340,
   "metadata": {},
   "outputs": [
    {
     "name": "stdout",
     "output_type": "stream",
     "text": [
      "Train on 25927 samples, validate on 5384 samples\n",
      "Epoch 1/100\n",
      "25927/25927 [==============================] - 40s 2ms/step - loss: 2.0559 - acc: 0.2136 - val_loss: 1.8414 - val_acc: 0.2428\n",
      "\n",
      "Epoch 00001: val_loss improved from inf to 1.84137, saving model to ./model.h5\n",
      "Epoch 2/100\n",
      "25927/25927 [==============================] - 31s 1ms/step - loss: 1.8485 - acc: 0.2393 - val_loss: 1.8202 - val_acc: 0.2431\n",
      "\n",
      "Epoch 00002: val_loss improved from 1.84137 to 1.82017, saving model to ./model.h5\n",
      "Epoch 3/100\n",
      "25927/25927 [==============================] - 32s 1ms/step - loss: 1.8190 - acc: 0.2531 - val_loss: 1.8109 - val_acc: 0.2502\n",
      "\n",
      "Epoch 00003: val_loss improved from 1.82017 to 1.81092, saving model to ./model.h5\n",
      "Epoch 4/100\n",
      "25927/25927 [==============================] - 32s 1ms/step - loss: 1.7713 - acc: 0.2826 - val_loss: 1.8774 - val_acc: 0.2483\n",
      "\n",
      "Epoch 00004: val_loss did not improve from 1.81092\n",
      "Epoch 5/100\n",
      "25927/25927 [==============================] - 32s 1ms/step - loss: 1.6856 - acc: 0.3255 - val_loss: 2.3904 - val_acc: 0.2483\n",
      "\n",
      "Epoch 00005: val_loss did not improve from 1.81092\n",
      "Epoch 6/100\n",
      "25927/25927 [==============================] - 32s 1ms/step - loss: 1.5770 - acc: 0.3817 - val_loss: 1.5740 - val_acc: 0.3817\n",
      "\n",
      "Epoch 00006: val_loss improved from 1.81092 to 1.57400, saving model to ./model.h5\n",
      "Epoch 7/100\n",
      "25927/25927 [==============================] - 32s 1ms/step - loss: 1.5188 - acc: 0.4032 - val_loss: 1.5498 - val_acc: 0.3824\n",
      "\n",
      "Epoch 00007: val_loss improved from 1.57400 to 1.54982, saving model to ./model.h5\n",
      "Epoch 8/100\n",
      "25927/25927 [==============================] - 31s 1ms/step - loss: 1.4586 - acc: 0.4275 - val_loss: 1.4635 - val_acc: 0.4417\n",
      "\n",
      "Epoch 00008: val_loss improved from 1.54982 to 1.46345, saving model to ./model.h5\n",
      "Epoch 9/100\n",
      "25927/25927 [==============================] - 31s 1ms/step - loss: 1.4236 - acc: 0.4514 - val_loss: 1.3923 - val_acc: 0.4801\n",
      "\n",
      "Epoch 00009: val_loss improved from 1.46345 to 1.39233, saving model to ./model.h5\n",
      "Epoch 10/100\n",
      "25927/25927 [==============================] - 31s 1ms/step - loss: 1.3854 - acc: 0.4709 - val_loss: 1.3226 - val_acc: 0.4957\n",
      "\n",
      "Epoch 00010: val_loss improved from 1.39233 to 1.32261, saving model to ./model.h5\n",
      "Epoch 11/100\n",
      "25927/25927 [==============================] - 32s 1ms/step - loss: 1.3506 - acc: 0.4909 - val_loss: 1.2589 - val_acc: 0.5286\n",
      "\n",
      "Epoch 00011: val_loss improved from 1.32261 to 1.25886, saving model to ./model.h5\n",
      "Epoch 12/100\n",
      "25927/25927 [==============================] - 32s 1ms/step - loss: 1.3181 - acc: 0.5048 - val_loss: 1.3006 - val_acc: 0.4859\n",
      "\n",
      "Epoch 00012: val_loss did not improve from 1.25886\n",
      "Epoch 13/100\n",
      "25927/25927 [==============================] - 32s 1ms/step - loss: 1.2937 - acc: 0.5160 - val_loss: 1.2700 - val_acc: 0.5256\n",
      "\n",
      "Epoch 00013: val_loss did not improve from 1.25886\n",
      "Epoch 14/100\n",
      "25927/25927 [==============================] - 32s 1ms/step - loss: 1.2641 - acc: 0.5278 - val_loss: 1.2257 - val_acc: 0.5299\n",
      "\n",
      "Epoch 00014: val_loss improved from 1.25886 to 1.22567, saving model to ./model.h5\n",
      "Epoch 15/100\n",
      "25927/25927 [==============================] - 32s 1ms/step - loss: 1.2308 - acc: 0.5404 - val_loss: 1.2125 - val_acc: 0.5461\n",
      "\n",
      "Epoch 00015: val_loss improved from 1.22567 to 1.21252, saving model to ./model.h5\n",
      "Epoch 16/100\n",
      "25927/25927 [==============================] - 31s 1ms/step - loss: 1.2138 - acc: 0.5484 - val_loss: 1.1990 - val_acc: 0.5448\n",
      "\n",
      "Epoch 00016: val_loss improved from 1.21252 to 1.19901, saving model to ./model.h5\n",
      "Epoch 17/100\n",
      "25927/25927 [==============================] - 31s 1ms/step - loss: 1.1846 - acc: 0.5625 - val_loss: 1.1537 - val_acc: 0.5652\n",
      "\n",
      "Epoch 00017: val_loss improved from 1.19901 to 1.15367, saving model to ./model.h5\n",
      "Epoch 18/100\n",
      "25927/25927 [==============================] - 31s 1ms/step - loss: 1.1735 - acc: 0.5705 - val_loss: 1.1452 - val_acc: 0.5685\n",
      "\n",
      "Epoch 00018: val_loss improved from 1.15367 to 1.14517, saving model to ./model.h5\n",
      "Epoch 19/100\n",
      "25927/25927 [==============================] - 31s 1ms/step - loss: 1.1435 - acc: 0.5803 - val_loss: 1.1330 - val_acc: 0.5741\n",
      "\n",
      "Epoch 00019: val_loss improved from 1.14517 to 1.13297, saving model to ./model.h5\n",
      "Epoch 20/100\n",
      "25927/25927 [==============================] - 31s 1ms/step - loss: 1.1204 - acc: 0.5906 - val_loss: 1.1762 - val_acc: 0.5620\n",
      "\n",
      "Epoch 00020: val_loss did not improve from 1.13297\n",
      "Epoch 21/100\n",
      "25927/25927 [==============================] - 31s 1ms/step - loss: 1.1046 - acc: 0.5977 - val_loss: 1.1128 - val_acc: 0.5838\n",
      "\n",
      "Epoch 00021: val_loss improved from 1.13297 to 1.11283, saving model to ./model.h5\n",
      "Epoch 22/100\n",
      "25927/25927 [==============================] - 32s 1ms/step - loss: 1.0746 - acc: 0.6076 - val_loss: 1.0952 - val_acc: 0.5892\n",
      "\n",
      "Epoch 00022: val_loss improved from 1.11283 to 1.09523, saving model to ./model.h5\n",
      "Epoch 23/100\n",
      "25927/25927 [==============================] - 32s 1ms/step - loss: 1.0498 - acc: 0.6187 - val_loss: 1.0901 - val_acc: 0.5927\n",
      "\n",
      "Epoch 00023: val_loss improved from 1.09523 to 1.09005, saving model to ./model.h5\n",
      "Epoch 24/100\n",
      "25927/25927 [==============================] - 32s 1ms/step - loss: 1.0335 - acc: 0.6242 - val_loss: 1.1135 - val_acc: 0.5979\n",
      "\n",
      "Epoch 00024: val_loss did not improve from 1.09005\n",
      "Epoch 25/100\n",
      "25927/25927 [==============================] - 32s 1ms/step - loss: 1.0168 - acc: 0.6301 - val_loss: 1.1272 - val_acc: 0.5892\n",
      "\n",
      "Epoch 00025: val_loss did not improve from 1.09005\n",
      "Epoch 26/100\n",
      "25927/25927 [==============================] - 32s 1ms/step - loss: 0.9912 - acc: 0.6446 - val_loss: 1.0936 - val_acc: 0.6038\n",
      "\n",
      "Epoch 00026: ReduceLROnPlateau reducing learning rate to 0.0009000000427477062.\n",
      "\n",
      "Epoch 00026: val_loss did not improve from 1.09005\n",
      "Epoch 27/100\n",
      "25927/25927 [==============================] - 32s 1ms/step - loss: 0.9618 - acc: 0.6566 - val_loss: 1.0872 - val_acc: 0.6005\n",
      "\n",
      "Epoch 00027: val_loss improved from 1.09005 to 1.08721, saving model to ./model.h5\n",
      "Epoch 28/100\n",
      "25927/25927 [==============================] - 32s 1ms/step - loss: 0.9311 - acc: 0.6635 - val_loss: 1.1181 - val_acc: 0.5940\n",
      "\n",
      "Epoch 00028: val_loss did not improve from 1.08721\n",
      "Epoch 29/100\n",
      "25927/25927 [==============================] - 32s 1ms/step - loss: 0.9157 - acc: 0.6713 - val_loss: 1.0547 - val_acc: 0.6174\n",
      "\n",
      "Epoch 00029: val_loss improved from 1.08721 to 1.05471, saving model to ./model.h5\n",
      "Epoch 30/100\n",
      "25927/25927 [==============================] - 32s 1ms/step - loss: 0.8884 - acc: 0.6789 - val_loss: 1.0789 - val_acc: 0.6127\n",
      "\n",
      "Epoch 00030: val_loss did not improve from 1.05471\n",
      "Epoch 31/100\n",
      "25927/25927 [==============================] - 32s 1ms/step - loss: 0.8719 - acc: 0.6880 - val_loss: 1.0534 - val_acc: 0.6230\n",
      "\n",
      "Epoch 00031: val_loss improved from 1.05471 to 1.05340, saving model to ./model.h5\n",
      "Epoch 32/100\n",
      "25927/25927 [==============================] - 32s 1ms/step - loss: 0.8592 - acc: 0.6916 - val_loss: 1.0537 - val_acc: 0.6224\n",
      "\n",
      "Epoch 00032: val_loss did not improve from 1.05340\n",
      "Epoch 33/100\n",
      "25927/25927 [==============================] - 32s 1ms/step - loss: 0.8368 - acc: 0.7012 - val_loss: 1.0811 - val_acc: 0.6196\n",
      "\n",
      "Epoch 00033: val_loss did not improve from 1.05340\n",
      "Epoch 34/100\n",
      "25927/25927 [==============================] - 32s 1ms/step - loss: 0.8215 - acc: 0.7059 - val_loss: 1.0765 - val_acc: 0.6096\n",
      "\n",
      "Epoch 00034: ReduceLROnPlateau reducing learning rate to 0.0008100000384729356.\n",
      "\n",
      "Epoch 00034: val_loss did not improve from 1.05340\n",
      "Epoch 35/100\n",
      "25927/25927 [==============================] - 32s 1ms/step - loss: 0.7870 - acc: 0.7168 - val_loss: 1.0776 - val_acc: 0.6322\n",
      "\n",
      "Epoch 00035: val_loss did not improve from 1.05340\n",
      "Epoch 36/100\n",
      "25927/25927 [==============================] - 32s 1ms/step - loss: 0.7849 - acc: 0.7229 - val_loss: 1.0880 - val_acc: 0.6224\n",
      "\n",
      "Epoch 00036: val_loss did not improve from 1.05340\n",
      "Epoch 37/100\n",
      "25927/25927 [==============================] - 32s 1ms/step - loss: 0.7555 - acc: 0.7313 - val_loss: 1.0834 - val_acc: 0.6315\n",
      "\n",
      "Epoch 00037: ReduceLROnPlateau reducing learning rate to 0.0007290000503417104.\n",
      "\n",
      "Epoch 00037: val_loss did not improve from 1.05340\n",
      "Epoch 38/100\n",
      "25927/25927 [==============================] - 32s 1ms/step - loss: 0.7350 - acc: 0.7365 - val_loss: 1.0752 - val_acc: 0.6309\n",
      "\n",
      "Epoch 00038: val_loss did not improve from 1.05340\n",
      "Epoch 39/100\n"
     ]
    },
    {
     "name": "stdout",
     "output_type": "stream",
     "text": [
      "25927/25927 [==============================] - 31s 1ms/step - loss: 0.7072 - acc: 0.7517 - val_loss: 1.1002 - val_acc: 0.6356\n",
      "\n",
      "Epoch 00039: val_loss did not improve from 1.05340\n",
      "Epoch 00039: early stopping\n"
     ]
    },
    {
     "data": {
      "text/plain": [
       "<keras.callbacks.History at 0x7f57589d8438>"
      ]
     },
     "execution_count": 340,
     "metadata": {},
     "output_type": "execute_result"
    }
   ],
   "source": [
    "modelK.fit(np.array(XK_train), np.array(yK_train),\n",
    "          batch_size=batch_size,\n",
    "          epochs=epochs,\n",
    "          verbose=1,\n",
    "          validation_data=(np.array(XK_test), np.array(yK_test)),\n",
    "          shuffle=True,\n",
    "          callbacks=[lr_reducer, tensorboard, early_stopper, checkpointer])"
   ]
  },
  {
   "cell_type": "code",
   "execution_count": 342,
   "metadata": {},
   "outputs": [
    {
     "name": "stdout",
     "output_type": "stream",
     "text": [
      "5384/5384 [==============================] - 2s 374us/step\n",
      "Loss: 1.1001719017616884\n",
      "Accuracy: 0.6355869242199108\n"
     ]
    }
   ],
   "source": [
    "scores = modelK.evaluate(np.array(XK_test), np.array(yK_test), batch_size=batch_size)\n",
    "print(\"Loss: \" + str(scores[0]))\n",
    "print(\"Accuracy: \" + str(scores[1]))"
   ]
  },
  {
   "cell_type": "code",
   "execution_count": 343,
   "metadata": {},
   "outputs": [
    {
     "name": "stdout",
     "output_type": "stream",
     "text": [
      "25927/25927 [==============================] - 10s 375us/step\n",
      "Loss: 0.4446064614530525\n",
      "Accuracy: 0.8528946657947161\n"
     ]
    }
   ],
   "source": [
    "scores1 = modelK.evaluate(np.array(XK_train), np.array(yK_train), batch_size=batch_size)\n",
    "print(\"Loss: \" + str(scores1[0]))\n",
    "print(\"Accuracy: \" + str(scores1[1]))"
   ]
  },
  {
   "cell_type": "code",
   "execution_count": null,
   "metadata": {},
   "outputs": [],
   "source": []
  },
  {
   "cell_type": "code",
   "execution_count": null,
   "metadata": {},
   "outputs": [],
   "source": []
  },
  {
   "cell_type": "code",
   "execution_count": null,
   "metadata": {},
   "outputs": [],
   "source": []
  }
 ],
 "metadata": {
  "kernelspec": {
   "display_name": "Python 3",
   "language": "python",
   "name": "python3"
  },
  "language_info": {
   "codemirror_mode": {
    "name": "ipython",
    "version": 3
   },
   "file_extension": ".py",
   "mimetype": "text/x-python",
   "name": "python",
   "nbconvert_exporter": "python",
   "pygments_lexer": "ipython3",
   "version": "3.6.5"
  }
 },
 "nbformat": 4,
 "nbformat_minor": 2
}
