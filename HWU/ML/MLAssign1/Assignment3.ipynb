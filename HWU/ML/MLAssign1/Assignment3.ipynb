{
 "cells": [
  {
   "cell_type": "markdown",
   "metadata": {},
   "source": [
    "# Assignment 2 of Data Mining "
   ]
  },
  {
   "cell_type": "code",
   "execution_count": 54,
   "metadata": {},
   "outputs": [],
   "source": [
    "import pandas as pd\n",
    "import numpy as np\n",
    "import matplotlib\n",
    "import matplotlib.pyplot as plt\n",
    "import seaborn as sea\n",
    "from sklearn.preprocessing import StandardScaler, normalize  \n",
    "from sklearn.model_selection import train_test_split  \n",
    "from sklearn.model_selection import cross_val_score\n",
    "import graphviz \n",
    "from sklearn import metrics\n"
   ]
  },
  {
   "cell_type": "code",
   "execution_count": 2,
   "metadata": {},
   "outputs": [],
   "source": [
    "dall = pd.read_csv('fer2018/fer2018.csv')"
   ]
  },
  {
   "cell_type": "code",
   "execution_count": 3,
   "metadata": {},
   "outputs": [],
   "source": [
    "dall = dall.sample(frac=1)"
   ]
  },
  {
   "cell_type": "code",
   "execution_count": 4,
   "metadata": {},
   "outputs": [],
   "source": [
    "all_count = dall['emotion'].value_counts()"
   ]
  },
  {
   "cell_type": "code",
   "execution_count": 5,
   "metadata": {},
   "outputs": [
    {
     "name": "stdout",
     "output_type": "stream",
     "text": [
      "3    8989\n",
      "6    6198\n",
      "4    6077\n",
      "2    5121\n",
      "0    4953\n",
      "5    4002\n",
      "1     547\n",
      "Name: emotion, dtype: int64\n"
     ]
    }
   ],
   "source": [
    "print(dall['emotion'].value_counts())"
   ]
  },
  {
   "cell_type": "markdown",
   "metadata": {},
   "source": [
    "## Checking the data of the files "
   ]
  },
  {
   "cell_type": "code",
   "execution_count": 6,
   "metadata": {},
   "outputs": [
    {
     "data": {
      "text/plain": [
       "<matplotlib.axes._subplots.AxesSubplot at 0x7f89f95b20f0>"
      ]
     },
     "execution_count": 6,
     "metadata": {},
     "output_type": "execute_result"
    },
    {
     "data": {
      "image/png": "[encoded data removed]",
      "text/plain": [
       "<Figure size 432x288 with 1 Axes>"
      ]
     },
     "metadata": {},
     "output_type": "display_data"
    }
   ],
   "source": [
    "sea.countplot(dall['emotion'])"
   ]
  },
  {
   "cell_type": "code",
   "execution_count": 7,
   "metadata": {},
   "outputs": [
    {
     "data": {
      "text/plain": [
       "35887"
      ]
     },
     "execution_count": 7,
     "metadata": {},
     "output_type": "execute_result"
    }
   ],
   "source": [
    "dall['pixels'].size"
   ]
  },
  {
   "cell_type": "markdown",
   "metadata": {},
   "source": [
    "## 500 data set values "
   ]
  },
  {
   "cell_type": "code",
   "execution_count": 8,
   "metadata": {},
   "outputs": [],
   "source": [
    "dall_0 = dall.loc[dall['emotion'] == 0];\n",
    "dall0 = dall_0.iloc[0:500]\n",
    "dall_1 = dall.loc[dall['emotion'] == 1];\n",
    "dall1 = dall_1.iloc[0:500]\n",
    "dall_2 = dall.loc[dall['emotion'] == 2];\n",
    "dall2 = dall_2.iloc[0:500]\n",
    "dall_3 = dall.loc[dall['emotion'] == 3];\n",
    "dall3 = dall_3.iloc[0:500]\n",
    "dall_4 = dall.loc[dall['emotion'] == 4];\n",
    "dall4 = dall_4.iloc[0:500]\n",
    "dall_5 = dall.loc[dall['emotion'] == 5];\n",
    "dall5 = dall_5.iloc[0:500]\n",
    "dall_6 = dall.loc[dall['emotion'] == 6];\n",
    "dall6 = dall_6.iloc[0:500]"
   ]
  },
  {
   "cell_type": "code",
   "execution_count": 9,
   "metadata": {},
   "outputs": [],
   "source": [
    "dall_500 = pd.concat([dall0,dall1,dall2,dall3,dall4,dall5,dall6], ignore_index=True)"
   ]
  },
  {
   "cell_type": "code",
   "execution_count": 10,
   "metadata": {},
   "outputs": [
    {
     "data": {
      "text/plain": [
       "(3500, 2)"
      ]
     },
     "execution_count": 10,
     "metadata": {},
     "output_type": "execute_result"
    }
   ],
   "source": [
    "dall_500.shape"
   ]
  },
  {
   "cell_type": "code",
   "execution_count": 11,
   "metadata": {},
   "outputs": [],
   "source": [
    "dall_500 = dall_500.sample(frac=1)"
   ]
  },
  {
   "cell_type": "markdown",
   "metadata": {},
   "source": [
    "## Show Images "
   ]
  },
  {
   "cell_type": "code",
   "execution_count": 12,
   "metadata": {},
   "outputs": [],
   "source": [
    "def show_image(i):\n",
    "    nd = dall['pixels'][i]\n",
    "    val = nd.split(\" \")\n",
    "    x_pixels = np.array(val, 'float32')\n",
    "    x_pixels /= 255\n",
    "    x_reshaped = x_pixels.reshape(48,48)\n",
    "    plt.imshow(x_reshaped, cmap= \"gray\", interpolation=\"nearest\")    \n",
    "    plt.axis(\"off\")\n",
    "    plt.show()"
   ]
  },
  {
   "cell_type": "code",
   "execution_count": 13,
   "metadata": {},
   "outputs": [
    {
     "data": {
      "image/png": "[encoded data removed]",
      "text/plain": [
       "<Figure size 432x288 with 1 Axes>"
      ]
     },
     "metadata": {},
     "output_type": "display_data"
    },
    {
     "data": {
      "image/png": "[encoded data removed]",
      "text/plain": [
       "<Figure size 432x288 with 1 Axes>"
      ]
     },
     "metadata": {},
     "output_type": "display_data"
    }
   ],
   "source": [
    "plt.figure(1)\n",
    "plt.subplot(211)\n",
    "show_image(102)\n",
    "plt.subplot(212)\n",
    "show_image(112)"
   ]
  },
  {
   "cell_type": "code",
   "execution_count": 14,
   "metadata": {},
   "outputs": [],
   "source": [
    "NUM_CLASSES = 7\n",
    "img_size = 48"
   ]
  },
  {
   "cell_type": "markdown",
   "metadata": {},
   "source": [
    "## Preproccessing Dataset  "
   ]
  },
  {
   "cell_type": "code",
   "execution_count": 15,
   "metadata": {},
   "outputs": [],
   "source": [
    "def pandas_vector_to_list(pandas_df):\n",
    "    py_list = [item for item in pandas_df.values.tolist()]\n",
    "    return py_list"
   ]
  },
  {
   "cell_type": "code",
   "execution_count": 16,
   "metadata": {},
   "outputs": [],
   "source": [
    "def em_as_list(dall):\n",
    "    emotion_as_list = pandas_vector_to_list(dall)\n",
    "    y_data = []\n",
    "    for index in range(len(dall)):\n",
    "        y_data.append(emotion_as_list[index])\n",
    "    \n",
    "    return y_data, emotion_as_list"
   ]
  },
  {
   "cell_type": "code",
   "execution_count": 17,
   "metadata": {},
   "outputs": [],
   "source": [
    "def np_image_data(x):\n",
    "    np_image_da = []\n",
    "    for index, item in enumerate(x):\n",
    "        # split space separated ints\n",
    "        pixel_data = item.split()\n",
    "        np_image_da.append(np.array(pixel_data))\n",
    "    np_image_da = np.array(np_image_da)\n",
    "    np_image_da = np_image_da.astype('float32') / 255.0\n",
    "\n",
    "    return np_image_da"
   ]
  },
  {
   "cell_type": "code",
   "execution_count": 18,
   "metadata": {},
   "outputs": [],
   "source": [
    "def emotion_data_array(x):\n",
    "    emotion_da = pandas_vector_to_list(x)\n",
    "    y_data_da = []\n",
    "    for index in range(len(x)):\n",
    "        y_data_da.append(emotion_da[index])\n",
    "    my_data_da = np.asarray(y_data_da) \n",
    "    return my_data_da"
   ]
  },
  {
   "cell_type": "code",
   "execution_count": 19,
   "metadata": {},
   "outputs": [],
   "source": [
    "def scalar_Transform(np_image_array, y_data):\n",
    "\n",
    "    X_train500, X_test500, y_train500, y_test500 = train_test_split(np_image_array, y_data, test_size=0.20)\n",
    "    scaler = StandardScaler()  \n",
    "    scaler.fit(X_train500)\n",
    "\n",
    "    X_train500 = scaler.transform(X_train500)  \n",
    "    X_test500 = scaler.transform(X_test500) \n",
    "    return X_train500, X_test500, y_train500, y_test500"
   ]
  },
  {
   "cell_type": "code",
   "execution_count": 20,
   "metadata": {},
   "outputs": [],
   "source": [
    "np_image_array1 = np_image_data(dall_500['pixels'])"
   ]
  },
  {
   "cell_type": "code",
   "execution_count": 21,
   "metadata": {},
   "outputs": [],
   "source": [
    "np_image_array = np_image_data(dall['pixels'])"
   ]
  },
  {
   "cell_type": "code",
   "execution_count": 22,
   "metadata": {},
   "outputs": [],
   "source": [
    "y_data1, emotion500_as_list = em_as_list(dall_500['emotion'])"
   ]
  },
  {
   "cell_type": "code",
   "execution_count": 23,
   "metadata": {},
   "outputs": [],
   "source": [
    "y_data, emotion_as_list = em_as_list(dall['emotion'])"
   ]
  },
  {
   "cell_type": "code",
   "execution_count": 24,
   "metadata": {},
   "outputs": [],
   "source": [
    "X_train500, X_test500, y_train500, y_test500 = scalar_Transform(np_image_array, y_data)"
   ]
  },
  {
   "cell_type": "code",
   "execution_count": 25,
   "metadata": {},
   "outputs": [],
   "source": [
    "X_train500, X_test500, y_train500, y_test500 = scalar_Transform(np_image_array1, y_data1)"
   ]
  },
  {
   "cell_type": "code",
   "execution_count": 26,
   "metadata": {},
   "outputs": [],
   "source": [
    "X_train, X_test, y_train, y_test = scalar_Transform(np_image_array, y_data)"
   ]
  },
  {
   "cell_type": "markdown",
   "metadata": {},
   "source": [
    "## Reading all the other datasets "
   ]
  },
  {
   "cell_type": "code",
   "execution_count": 27,
   "metadata": {},
   "outputs": [],
   "source": [
    "da = pd.read_csv('fer2018/fer2018angry.csv')\n",
    "dd = pd.read_csv('fer2018/fer2018disgust.csv')\n",
    "df = pd.read_csv('fer2018/fer2018fear.csv')\n",
    "dh = pd.read_csv('fer2018/fer2018happy.csv')\n",
    "dn = pd.read_csv('fer2018/fer2018neutral.csv')\n",
    "ds = pd.read_csv('fer2018/fer2018sad.csv')\n",
    "dsu = pd.read_csv('fer2018/fer2018surprise.csv')"
   ]
  },
  {
   "cell_type": "code",
   "execution_count": 28,
   "metadata": {},
   "outputs": [],
   "source": [
    "my_data_da = emotion_data_array(da['emotion'])\n",
    "my_data_dd = emotion_data_array(dd['emotion'])\n",
    "my_data_df = emotion_data_array(df['emotion'])\n",
    "my_data_dh = emotion_data_array(dh['emotion'])\n",
    "my_data_dn = emotion_data_array(dn['emotion'])\n",
    "my_data_ds = emotion_data_array(ds['emotion'])\n",
    "my_data_dsu = emotion_data_array(dsu['emotion'])\n"
   ]
  },
  {
   "cell_type": "markdown",
   "metadata": {},
   "source": [
    "## Getting the best Pixels of the datasets "
   ]
  },
  {
   "cell_type": "code",
   "execution_count": 29,
   "metadata": {},
   "outputs": [],
   "source": [
    "np_image_da = np_image_data(da['pixels'])\n",
    "np_image_dd = np_image_data(dd['pixels'])\n",
    "np_image_df = np_image_data(df['pixels'])\n",
    "np_image_dh = np_image_data(dh['pixels'])\n",
    "np_image_dn = np_image_data(dn['pixels'])\n",
    "np_image_ds = np_image_data(ds['pixels'])\n",
    "np_image_dsu = np_image_data(dsu['pixels'])"
   ]
  },
  {
   "cell_type": "code",
   "execution_count": 30,
   "metadata": {},
   "outputs": [],
   "source": [
    "import scipy as sp\n",
    "from scipy.stats import pearsonr"
   ]
  },
  {
   "cell_type": "code",
   "execution_count": 31,
   "metadata": {},
   "outputs": [],
   "source": [
    "myarray = np.asarray(y_data)"
   ]
  },
  {
   "cell_type": "code",
   "execution_count": 32,
   "metadata": {},
   "outputs": [],
   "source": [
    "def correlation_data(x, y):\n",
    "    prob_cluster_da = []\n",
    "\n",
    "    for i in range(y.shape[1]):  \n",
    "        k = pearsonr(x,y[:,i])\n",
    "        prob_cluster_da.append(k[0])\n",
    "        \n",
    "    return prob_cluster_da"
   ]
  },
  {
   "cell_type": "code",
   "execution_count": 33,
   "metadata": {},
   "outputs": [],
   "source": [
    "prob_cluster_da = np.array(correlation_data(my_data_da,np_image_da))\n",
    "prob_cluster_dd = np.array(correlation_data(my_data_dd,np_image_dd))\n",
    "prob_cluster_df = np.array(correlation_data(my_data_df,np_image_df))\n",
    "prob_cluster_dh = np.array(correlation_data(my_data_dh,np_image_dh))\n",
    "prob_cluster_ds = np.array(correlation_data(my_data_ds,np_image_ds))\n",
    "prob_cluster_dsu = np.array(correlation_data(my_data_dsu,np_image_dsu))"
   ]
  },
  {
   "cell_type": "code",
   "execution_count": 34,
   "metadata": {},
   "outputs": [],
   "source": [
    "def top_values(x,num):\n",
    "    \n",
    "    top_idx = np.argsort(x)[-num:]\n",
    "    top_values = [x[i] for i in top_idx]\n",
    "    top_idx = np.flip(top_idx,axis=0)\n",
    "    \n",
    "    return(top_idx, top_values)"
   ]
  },
  {
   "cell_type": "markdown",
   "metadata": {},
   "source": [
    "## DecisionTreeClassifier with complete dataset"
   ]
  },
  {
   "cell_type": "code",
   "execution_count": 35,
   "metadata": {},
   "outputs": [],
   "source": [
    "from sklearn.tree import DecisionTreeClassifier\n",
    "from sklearn import tree"
   ]
  },
  {
   "cell_type": "code",
   "execution_count": 97,
   "metadata": {},
   "outputs": [],
   "source": [
    "dy = DecisionTreeClassifier()\n",
    "clf = dy.fit(X_train,y_train)"
   ]
  },
  {
   "cell_type": "code",
   "execution_count": 101,
   "metadata": {},
   "outputs": [],
   "source": [
    "clf1 = dy.fit(X_train500,y_train500)"
   ]
  },
  {
   "cell_type": "code",
   "execution_count": 110,
   "metadata": {},
   "outputs": [
    {
     "data": {
      "text/plain": [
       "defaultdict(list,\n",
       "            {'0': [1],\n",
       "             '1': [2, 57],\n",
       "             '2': [3, 52],\n",
       "             '3': [4, 51],\n",
       "             '4': [5, 14],\n",
       "             '5': [6, 9],\n",
       "             '6': [7, 8],\n",
       "             '9': [10, 11],\n",
       "             '11': [12, 13],\n",
       "             '14': [15, 16],\n",
       "             '16': [17, 46],\n",
       "             '17': [18, 31],\n",
       "             '18': [19, 22],\n",
       "             '19': [20, 21],\n",
       "             '22': [23, 30],\n",
       "             '23': [24, 29],\n",
       "             '24': [25, 26],\n",
       "             '26': [27, 28],\n",
       "             '31': [32, 43],\n",
       "             '32': [33, 42],\n",
       "             '33': [34, 35],\n",
       "             '35': [36, 41],\n",
       "             '36': [37, 38],\n",
       "             '38': [39, 40],\n",
       "             '43': [44, 45],\n",
       "             '46': [47, 48],\n",
       "             '48': [49, 50],\n",
       "             '52': [53, 56],\n",
       "             '53': [54, 55],\n",
       "             '57': [58],\n",
       "             '58': [59],\n",
       "             '59': [60],\n",
       "             '60': [61, 88],\n",
       "             '61': [62, 73],\n",
       "             '62': [63, 70],\n",
       "             '63': [64, 67],\n",
       "             '64': [65, 66],\n",
       "             '67': [68, 69],\n",
       "             '70': [71, 72],\n",
       "             '73': [74, 81],\n",
       "             '74': [75, 76],\n",
       "             '76': [77, 80],\n",
       "             '77': [78, 79],\n",
       "             '81': [82, 83],\n",
       "             '83': [84, 87],\n",
       "             '84': [85, 86],\n",
       "             '88': [89, 94],\n",
       "             '89': [90, 93],\n",
       "             '90': [91, 92],\n",
       "             '94': [95, 98],\n",
       "             '95': [96, 97],\n",
       "             '98': [99, 100]})"
      ]
     },
     "execution_count": 110,
     "metadata": {},
     "output_type": "execute_result"
    }
   ],
   "source": [
    "edges"
   ]
  },
  {
   "cell_type": "code",
   "execution_count": 109,
   "metadata": {
    "scrolled": true
   },
   "outputs": [
    {
     "ename": "IndexError",
     "evalue": "list index out of range",
     "output_type": "error",
     "traceback": [
      "\u001b[0;31m---------------------------------------------------------------------------\u001b[0m",
      "\u001b[0;31mIndexError\u001b[0m                                Traceback (most recent call last)",
      "\u001b[0;32m<ipython-input-109-b4975a53338e>\u001b[0m in \u001b[0;36m<module>\u001b[0;34m()\u001b[0m\n\u001b[1;32m     17\u001b[0m     \u001b[0medges\u001b[0m\u001b[0;34m[\u001b[0m\u001b[0medge\u001b[0m\u001b[0;34m]\u001b[0m\u001b[0;34m.\u001b[0m\u001b[0msort\u001b[0m\u001b[0;34m(\u001b[0m\u001b[0;34m)\u001b[0m\u001b[0;34m\u001b[0m\u001b[0m\n\u001b[1;32m     18\u001b[0m     \u001b[0;32mfor\u001b[0m \u001b[0mi\u001b[0m \u001b[0;32min\u001b[0m \u001b[0mrange\u001b[0m\u001b[0;34m(\u001b[0m\u001b[0;36m2\u001b[0m\u001b[0;34m)\u001b[0m\u001b[0;34m:\u001b[0m\u001b[0;34m\u001b[0m\u001b[0m\n\u001b[0;32m---> 19\u001b[0;31m         \u001b[0mdest\u001b[0m \u001b[0;34m=\u001b[0m \u001b[0mgraph\u001b[0m\u001b[0;34m.\u001b[0m\u001b[0mget_node\u001b[0m\u001b[0;34m(\u001b[0m\u001b[0mstr\u001b[0m\u001b[0;34m(\u001b[0m\u001b[0medges\u001b[0m\u001b[0;34m[\u001b[0m\u001b[0medge\u001b[0m\u001b[0;34m]\u001b[0m\u001b[0;34m[\u001b[0m\u001b[0mi\u001b[0m\u001b[0;34m]\u001b[0m\u001b[0;34m)\u001b[0m\u001b[0;34m)\u001b[0m\u001b[0;34m[\u001b[0m\u001b[0;36m0\u001b[0m\u001b[0;34m]\u001b[0m\u001b[0;34m\u001b[0m\u001b[0m\n\u001b[0m\u001b[1;32m     20\u001b[0m         \u001b[0mdest\u001b[0m\u001b[0;34m.\u001b[0m\u001b[0mset_fillcolor\u001b[0m\u001b[0;34m(\u001b[0m\u001b[0mcolors\u001b[0m\u001b[0;34m[\u001b[0m\u001b[0mi\u001b[0m\u001b[0;34m]\u001b[0m\u001b[0;34m)\u001b[0m\u001b[0;34m\u001b[0m\u001b[0m\n\u001b[1;32m     21\u001b[0m \u001b[0;34m\u001b[0m\u001b[0m\n",
      "\u001b[0;31mIndexError\u001b[0m: list index out of range"
     ]
    }
   ],
   "source": [
    "import pydotplus\n",
    "import collections\n",
    "\n",
    "dot_data = tree.export_graphviz(clf1,\n",
    "                                out_file=None,\n",
    "                                filled=True,\n",
    "                                rounded=True)\n",
    "graph = pydotplus.graph_from_dot_data(dot_data)\n",
    "\n",
    "colors = ('turquoise', 'orange')\n",
    "edges = collections.defaultdict(list)\n",
    "\n",
    "for edge in graph.get_edge_list()[0:10]:\n",
    "    edges[edge.get_source()].append(int(edge.get_destination()))\n",
    "    \n",
    "\n",
    "\n",
    "for edge in edges:\n",
    "    edges[edge].sort()    \n",
    "    for i in range(2):\n",
    "        dest = graph.get_node(str(edges[edge][i]))[0]\n",
    "        dest.set_fillcolor(colors[i])\n",
    "\n",
    "graph.write_png('tree.png')"
   ]
  },
  {
   "cell_type": "markdown",
   "metadata": {},
   "source": [
    "### Cross Validation 5 and 10"
   ]
  },
  {
   "cell_type": "code",
   "execution_count": 40,
   "metadata": {},
   "outputs": [
    {
     "name": "stdout",
     "output_type": "stream",
     "text": [
      "[0.31255441 0.29932091 0.30419641 0.31057307 0.30318871]\n",
      "Accuracy: 0.31 (+/- 0.01)\n"
     ]
    }
   ],
   "source": [
    "scores = cross_val_score(dy, X_train, y_train, cv=5)\n",
    "print(scores)\n",
    "print(\"Accuracy: %0.2f (+/- %0.2f)\" % (scores.mean(), scores.std() * 2))"
   ]
  },
  {
   "cell_type": "code",
   "execution_count": 54,
   "metadata": {},
   "outputs": [
    {
     "name": "stdout",
     "output_type": "stream",
     "text": [
      "[0.32370345 0.30525583 0.32509572 0.32126697 0.30745125 0.31114983\n",
      " 0.32299652 0.31707317 0.30892608 0.3125218 ]\n",
      "Accuracy: 0.32 (+/- 0.01)\n"
     ]
    }
   ],
   "source": [
    "scores = cross_val_score(dy, X_train, y_train, cv=10)\n",
    "print(scores)\n",
    "print(\"Accuracy: %0.2f (+/- %0.2f)\" % (scores.mean(), scores.std() * 2))"
   ]
  },
  {
   "cell_type": "code",
   "execution_count": 55,
   "metadata": {},
   "outputs": [
    {
     "name": "stdout",
     "output_type": "stream",
     "text": [
      "[0.20781528 0.2228164  0.24150268 0.22182469 0.2311828 ]\n",
      "Accuracy: 0.23 (+/- 0.02)\n"
     ]
    }
   ],
   "source": [
    "scores = cross_val_score(dy, X_train500, y_train500, cv=5)\n",
    "print(scores)\n",
    "print(\"Accuracy: %0.2f (+/- %0.2f)\" % (scores.mean(), scores.std() * 2))"
   ]
  },
  {
   "cell_type": "code",
   "execution_count": 56,
   "metadata": {},
   "outputs": [
    {
     "name": "stdout",
     "output_type": "stream",
     "text": [
      "[0.29328622 0.20141343 0.20640569 0.20284698 0.20640569 0.25\n",
      " 0.23021583 0.23021583 0.19064748 0.22382671]\n",
      "Accuracy: 0.22 (+/- 0.06)\n"
     ]
    }
   ],
   "source": [
    "scores = cross_val_score(dy, X_train500, y_train500, cv=10)\n",
    "print(scores)\n",
    "print(\"Accuracy: %0.2f (+/- %0.2f)\" % (scores.mean(), scores.std() * 2))"
   ]
  },
  {
   "cell_type": "code",
   "execution_count": 46,
   "metadata": {},
   "outputs": [],
   "source": [
    "clf500 = dy.fit(X_train500,y_train500)"
   ]
  },
  {
   "cell_type": "markdown",
   "metadata": {},
   "source": [
    "https://scikit-learn.org/stable/modules/tree.html#tree"
   ]
  },
  {
   "cell_type": "markdown",
   "metadata": {},
   "source": [
    "### Linear Model "
   ]
  },
  {
   "cell_type": "code",
   "execution_count": 36,
   "metadata": {},
   "outputs": [],
   "source": [
    "from sklearn.linear_model import LinearRegression\n",
    "from sklearn.linear_model import RidgeCV"
   ]
  },
  {
   "cell_type": "code",
   "execution_count": 37,
   "metadata": {},
   "outputs": [],
   "source": [
    "L_R = LinearRegression()\n",
    "Ridge = RidgeCV()"
   ]
  },
  {
   "cell_type": "markdown",
   "metadata": {},
   "source": [
    "### Two types of data set "
   ]
  },
  {
   "cell_type": "code",
   "execution_count": 38,
   "metadata": {},
   "outputs": [],
   "source": [
    "L_R.fit(X_train, y_train)\n",
    "y_test_predict = L_R.predict(X_test)"
   ]
  },
  {
   "cell_type": "code",
   "execution_count": 50,
   "metadata": {},
   "outputs": [
    {
     "data": {
      "text/plain": [
       "-4.0"
      ]
     },
     "execution_count": 50,
     "metadata": {},
     "output_type": "execute_result"
    }
   ],
   "source": [
    "round(y_test_predict[50])"
   ]
  },
  {
   "cell_type": "code",
   "execution_count": 45,
   "metadata": {},
   "outputs": [
    {
     "name": "stdout",
     "output_type": "stream",
     "text": [
      "             precision    recall  f1-score   support\n",
      "\n",
      "       -1.0       0.00      0.00      0.00         0\n",
      "        0.0       0.29      0.00      0.00       987\n",
      "        1.0       0.06      0.04      0.05        95\n",
      "        2.0       0.16      0.12      0.13      1046\n",
      "        3.0       0.29      0.55      0.38      1830\n",
      "        4.0       0.16      0.35      0.22      1168\n",
      "        5.0       0.27      0.12      0.17       788\n",
      "        6.0       0.28      0.01      0.01      1264\n",
      "        8.0       0.00      0.00      0.00         0\n",
      "\n",
      "avg / total       0.24      0.23      0.17      7178\n",
      "\n",
      "[[   0    0    0    0    0    0    0    0    0]\n",
      " [   2    2   16  144  531  262   29    1    0]\n",
      " [   0    0    4   12   53   23    3    0    0]\n",
      " [   0    3   15  124  501  352   49    2    0]\n",
      " [   0    2   14  245 1005  512   49    3    0]\n",
      " [   0    0   10  117  589  406   39    7    0]\n",
      " [   0    0    1   50  263  374   94    5    1]\n",
      " [   0    0    7  103  530  532   85    7    0]\n",
      " [   0    0    0    0    0    0    0    0    0]]\n"
     ]
    },
    {
     "name": "stderr",
     "output_type": "stream",
     "text": [
      "/home/mohit/anaconda3/lib/python3.6/site-packages/sklearn/metrics/classification.py:1137: UndefinedMetricWarning: Recall and F-score are ill-defined and being set to 0.0 in labels with no true samples.\n",
      "  'recall', 'true', average, warn_for)\n"
     ]
    }
   ],
   "source": [
    "print(metrics.classification_report(y_test, np.round(y_test_predict)))\n",
    "print(metrics.confusion_matrix(y_test,np.round(y_test_predict)))"
   ]
  },
  {
   "cell_type": "code",
   "execution_count": 46,
   "metadata": {},
   "outputs": [],
   "source": [
    "L_R.fit(X_train500, y_train500)\n",
    "y_test_predict = L_R.predict(X_test500)"
   ]
  },
  {
   "cell_type": "code",
   "execution_count": 47,
   "metadata": {},
   "outputs": [
    {
     "name": "stdout",
     "output_type": "stream",
     "text": [
      "             precision    recall  f1-score   support\n",
      "\n",
      "      -15.0       0.00      0.00      0.00         0\n",
      "      -13.0       0.00      0.00      0.00         0\n",
      "      -12.0       0.00      0.00      0.00         0\n",
      "      -11.0       0.00      0.00      0.00         0\n",
      "      -10.0       0.00      0.00      0.00         0\n",
      "       -9.0       0.00      0.00      0.00         0\n",
      "       -8.0       0.00      0.00      0.00         0\n",
      "       -7.0       0.00      0.00      0.00         0\n",
      "       -6.0       0.00      0.00      0.00         0\n",
      "       -5.0       0.00      0.00      0.00         0\n",
      "       -4.0       0.00      0.00      0.00         0\n",
      "       -3.0       0.00      0.00      0.00         0\n",
      "       -2.0       0.00      0.00      0.00         0\n",
      "       -1.0       0.00      0.00      0.00         0\n",
      "        0.0       0.09      0.05      0.06       103\n",
      "        1.0       0.27      0.16      0.20       100\n",
      "        2.0       0.15      0.10      0.12       101\n",
      "        3.0       0.14      0.09      0.11        96\n",
      "        4.0       0.21      0.09      0.13       111\n",
      "        5.0       0.14      0.09      0.11        93\n",
      "        6.0       0.16      0.07      0.10        96\n",
      "        7.0       0.00      0.00      0.00         0\n",
      "        8.0       0.00      0.00      0.00         0\n",
      "        9.0       0.00      0.00      0.00         0\n",
      "       10.0       0.00      0.00      0.00         0\n",
      "       11.0       0.00      0.00      0.00         0\n",
      "       12.0       0.00      0.00      0.00         0\n",
      "       13.0       0.00      0.00      0.00         0\n",
      "       14.0       0.00      0.00      0.00         0\n",
      "       15.0       0.00      0.00      0.00         0\n",
      "       16.0       0.00      0.00      0.00         0\n",
      "       17.0       0.00      0.00      0.00         0\n",
      "       18.0       0.00      0.00      0.00         0\n",
      "       20.0       0.00      0.00      0.00         0\n",
      "       27.0       0.00      0.00      0.00         0\n",
      "\n",
      "avg / total       0.17      0.09      0.12       700\n",
      "\n",
      "[[0 0 0 ... 0 0 0]\n",
      " [0 0 0 ... 0 0 0]\n",
      " [0 0 0 ... 0 0 0]\n",
      " ...\n",
      " [0 0 0 ... 0 0 0]\n",
      " [0 0 0 ... 0 0 0]\n",
      " [0 0 0 ... 0 0 0]]\n"
     ]
    },
    {
     "name": "stderr",
     "output_type": "stream",
     "text": [
      "/home/mohit/anaconda3/lib/python3.6/site-packages/sklearn/metrics/classification.py:1137: UndefinedMetricWarning: Recall and F-score are ill-defined and being set to 0.0 in labels with no true samples.\n",
      "  'recall', 'true', average, warn_for)\n"
     ]
    }
   ],
   "source": [
    "print(metrics.classification_report(y_test500, np.round(y_test_predict)))\n",
    "print(metrics.confusion_matrix(y_test500,np.round(y_test_predict)))"
   ]
  },
  {
   "cell_type": "code",
   "execution_count": 51,
   "metadata": {},
   "outputs": [],
   "source": [
    "Ridge.fit(X_train, y_train)\n",
    "y_test_predict = Ridge.predict(X_test)"
   ]
  },
  {
   "cell_type": "code",
   "execution_count": 59,
   "metadata": {},
   "outputs": [
    {
     "data": {
      "text/plain": [
       "(7178,)"
      ]
     },
     "execution_count": 59,
     "metadata": {},
     "output_type": "execute_result"
    }
   ],
   "source": [
    "y_test_predict.shape"
   ]
  },
  {
   "cell_type": "code",
   "execution_count": 78,
   "metadata": {},
   "outputs": [
    {
     "ename": "ValueError",
     "evalue": "Expected 2D array, got 1D array instead:\narray=[2.35669366 2.18377694 3.17015594 ... 2.48393429 4.75927317 4.43226763].\nReshape your data either using array.reshape(-1, 1) if your data has a single feature or array.reshape(1, -1) if it contains a single sample.",
     "output_type": "error",
     "traceback": [
      "\u001b[0;31m---------------------------------------------------------------------------\u001b[0m",
      "\u001b[0;31mValueError\u001b[0m                                Traceback (most recent call last)",
      "\u001b[0;32m<ipython-input-78-92ceb01679cf>\u001b[0m in \u001b[0;36m<module>\u001b[0;34m()\u001b[0m\n\u001b[1;32m      1\u001b[0m \u001b[0;32mfrom\u001b[0m \u001b[0msklearn\u001b[0m\u001b[0;34m.\u001b[0m\u001b[0mpreprocessing\u001b[0m \u001b[0;32mimport\u001b[0m \u001b[0mNormalizer\u001b[0m\u001b[0;34m\u001b[0m\u001b[0m\n\u001b[0;32m----> 2\u001b[0;31m \u001b[0mtransformer\u001b[0m \u001b[0;34m=\u001b[0m \u001b[0mNormalizer\u001b[0m\u001b[0;34m(\u001b[0m\u001b[0;34m)\u001b[0m\u001b[0;34m.\u001b[0m\u001b[0mfit\u001b[0m\u001b[0;34m(\u001b[0m\u001b[0mnp\u001b[0m\u001b[0;34m.\u001b[0m\u001b[0marray\u001b[0m\u001b[0;34m(\u001b[0m\u001b[0my_test_predict\u001b[0m\u001b[0;34m)\u001b[0m\u001b[0;34m)\u001b[0m\u001b[0;34m\u001b[0m\u001b[0m\n\u001b[0m\u001b[1;32m      3\u001b[0m \u001b[0mtransformer\u001b[0m\u001b[0;34m.\u001b[0m\u001b[0mtransform\u001b[0m\u001b[0;34m(\u001b[0m\u001b[0mnp\u001b[0m\u001b[0;34m.\u001b[0m\u001b[0marray\u001b[0m\u001b[0;34m(\u001b[0m\u001b[0my_test_predict\u001b[0m\u001b[0;34m)\u001b[0m\u001b[0;34m)\u001b[0m\u001b[0;34m\u001b[0m\u001b[0m\n",
      "\u001b[0;32m~/anaconda3/lib/python3.6/site-packages/sklearn/preprocessing/data.py\u001b[0m in \u001b[0;36mfit\u001b[0;34m(self, X, y)\u001b[0m\n\u001b[1;32m   1505\u001b[0m         \u001b[0mX\u001b[0m \u001b[0;34m:\u001b[0m \u001b[0marray\u001b[0m\u001b[0;34m-\u001b[0m\u001b[0mlike\u001b[0m\u001b[0;34m\u001b[0m\u001b[0m\n\u001b[1;32m   1506\u001b[0m         \"\"\"\n\u001b[0;32m-> 1507\u001b[0;31m         \u001b[0mX\u001b[0m \u001b[0;34m=\u001b[0m \u001b[0mcheck_array\u001b[0m\u001b[0;34m(\u001b[0m\u001b[0mX\u001b[0m\u001b[0;34m,\u001b[0m \u001b[0maccept_sparse\u001b[0m\u001b[0;34m=\u001b[0m\u001b[0;34m'csr'\u001b[0m\u001b[0;34m)\u001b[0m\u001b[0;34m\u001b[0m\u001b[0m\n\u001b[0m\u001b[1;32m   1508\u001b[0m         \u001b[0;32mreturn\u001b[0m \u001b[0mself\u001b[0m\u001b[0;34m\u001b[0m\u001b[0m\n\u001b[1;32m   1509\u001b[0m \u001b[0;34m\u001b[0m\u001b[0m\n",
      "\u001b[0;32m~/anaconda3/lib/python3.6/site-packages/sklearn/utils/validation.py\u001b[0m in \u001b[0;36mcheck_array\u001b[0;34m(array, accept_sparse, dtype, order, copy, force_all_finite, ensure_2d, allow_nd, ensure_min_samples, ensure_min_features, warn_on_dtype, estimator)\u001b[0m\n\u001b[1;32m    439\u001b[0m                     \u001b[0;34m\"Reshape your data either using array.reshape(-1, 1) if \"\u001b[0m\u001b[0;34m\u001b[0m\u001b[0m\n\u001b[1;32m    440\u001b[0m                     \u001b[0;34m\"your data has a single feature or array.reshape(1, -1) \"\u001b[0m\u001b[0;34m\u001b[0m\u001b[0m\n\u001b[0;32m--> 441\u001b[0;31m                     \"if it contains a single sample.\".format(array))\n\u001b[0m\u001b[1;32m    442\u001b[0m             \u001b[0marray\u001b[0m \u001b[0;34m=\u001b[0m \u001b[0mnp\u001b[0m\u001b[0;34m.\u001b[0m\u001b[0matleast_2d\u001b[0m\u001b[0;34m(\u001b[0m\u001b[0marray\u001b[0m\u001b[0;34m)\u001b[0m\u001b[0;34m\u001b[0m\u001b[0m\n\u001b[1;32m    443\u001b[0m             \u001b[0;31m# To ensure that array flags are maintained\u001b[0m\u001b[0;34m\u001b[0m\u001b[0;34m\u001b[0m\u001b[0m\n",
      "\u001b[0;31mValueError\u001b[0m: Expected 2D array, got 1D array instead:\narray=[2.35669366 2.18377694 3.17015594 ... 2.48393429 4.75927317 4.43226763].\nReshape your data either using array.reshape(-1, 1) if your data has a single feature or array.reshape(1, -1) if it contains a single sample."
     ]
    }
   ],
   "source": [
    "from sklearn.preprocessing import Normalizer\n",
    "transformer = Normalizer().fit(np.array(y_test_predict))\n",
    "transformer.transform(np.array(y_test_predict))"
   ]
  },
  {
   "cell_type": "code",
   "execution_count": 77,
   "metadata": {},
   "outputs": [
    {
     "data": {
      "text/plain": [
       "array([287.75136943])"
      ]
     },
     "execution_count": 77,
     "metadata": {},
     "output_type": "execute_result"
    }
   ],
   "source": [
    "np.linalg.norm(y_test_predict,axis=0, keepdims=True)"
   ]
  },
  {
   "cell_type": "code",
   "execution_count": 79,
   "metadata": {},
   "outputs": [
    {
     "data": {
      "text/plain": [
       "(7178,)"
      ]
     },
     "execution_count": 79,
     "metadata": {},
     "output_type": "execute_result"
    }
   ],
   "source": [
    "np.array(y_test_predict).shape"
   ]
  },
  {
   "cell_type": "code",
   "execution_count": 71,
   "metadata": {},
   "outputs": [
    {
     "ename": "ValueError",
     "evalue": "Expected 2D array, got 1D array instead:\narray=[2.35669366 2.18377694 3.17015594 ... 2.48393429 4.75927317 4.43226763].\nReshape your data either using array.reshape(-1, 1) if your data has a single feature or array.reshape(1, -1) if it contains a single sample.",
     "output_type": "error",
     "traceback": [
      "\u001b[0;31m---------------------------------------------------------------------------\u001b[0m",
      "\u001b[0;31mValueError\u001b[0m                                Traceback (most recent call last)",
      "\u001b[0;32m<ipython-input-71-2b2d534a5694>\u001b[0m in \u001b[0;36m<module>\u001b[0;34m()\u001b[0m\n\u001b[0;32m----> 1\u001b[0;31m \u001b[0my_test_predict\u001b[0m \u001b[0;34m=\u001b[0m \u001b[0mnormalize\u001b[0m\u001b[0;34m(\u001b[0m\u001b[0my_test_predict\u001b[0m\u001b[0;34m,\u001b[0m \u001b[0mnorm\u001b[0m\u001b[0;34m=\u001b[0m\u001b[0;34m'l2'\u001b[0m\u001b[0;34m)\u001b[0m\u001b[0;34m\u001b[0m\u001b[0m\n\u001b[0m",
      "\u001b[0;32m~/anaconda3/lib/python3.6/site-packages/sklearn/preprocessing/data.py\u001b[0m in \u001b[0;36mnormalize\u001b[0;34m(X, norm, axis, copy, return_norm)\u001b[0m\n\u001b[1;32m   1410\u001b[0m \u001b[0;34m\u001b[0m\u001b[0m\n\u001b[1;32m   1411\u001b[0m     X = check_array(X, sparse_format, copy=copy,\n\u001b[0;32m-> 1412\u001b[0;31m                     estimator='the normalize function', dtype=FLOAT_DTYPES)\n\u001b[0m\u001b[1;32m   1413\u001b[0m     \u001b[0;32mif\u001b[0m \u001b[0maxis\u001b[0m \u001b[0;34m==\u001b[0m \u001b[0;36m0\u001b[0m\u001b[0;34m:\u001b[0m\u001b[0;34m\u001b[0m\u001b[0m\n\u001b[1;32m   1414\u001b[0m         \u001b[0mX\u001b[0m \u001b[0;34m=\u001b[0m \u001b[0mX\u001b[0m\u001b[0;34m.\u001b[0m\u001b[0mT\u001b[0m\u001b[0;34m\u001b[0m\u001b[0m\n",
      "\u001b[0;32m~/anaconda3/lib/python3.6/site-packages/sklearn/utils/validation.py\u001b[0m in \u001b[0;36mcheck_array\u001b[0;34m(array, accept_sparse, dtype, order, copy, force_all_finite, ensure_2d, allow_nd, ensure_min_samples, ensure_min_features, warn_on_dtype, estimator)\u001b[0m\n\u001b[1;32m    439\u001b[0m                     \u001b[0;34m\"Reshape your data either using array.reshape(-1, 1) if \"\u001b[0m\u001b[0;34m\u001b[0m\u001b[0m\n\u001b[1;32m    440\u001b[0m                     \u001b[0;34m\"your data has a single feature or array.reshape(1, -1) \"\u001b[0m\u001b[0;34m\u001b[0m\u001b[0m\n\u001b[0;32m--> 441\u001b[0;31m                     \"if it contains a single sample.\".format(array))\n\u001b[0m\u001b[1;32m    442\u001b[0m             \u001b[0marray\u001b[0m \u001b[0;34m=\u001b[0m \u001b[0mnp\u001b[0m\u001b[0;34m.\u001b[0m\u001b[0matleast_2d\u001b[0m\u001b[0;34m(\u001b[0m\u001b[0marray\u001b[0m\u001b[0;34m)\u001b[0m\u001b[0;34m\u001b[0m\u001b[0m\n\u001b[1;32m    443\u001b[0m             \u001b[0;31m# To ensure that array flags are maintained\u001b[0m\u001b[0;34m\u001b[0m\u001b[0;34m\u001b[0m\u001b[0m\n",
      "\u001b[0;31mValueError\u001b[0m: Expected 2D array, got 1D array instead:\narray=[2.35669366 2.18377694 3.17015594 ... 2.48393429 4.75927317 4.43226763].\nReshape your data either using array.reshape(-1, 1) if your data has a single feature or array.reshape(1, -1) if it contains a single sample."
     ]
    }
   ],
   "source": [
    "y_test_predict = normalize(y_test_predict, norm='l2')"
   ]
  },
  {
   "cell_type": "code",
   "execution_count": 52,
   "metadata": {},
   "outputs": [
    {
     "name": "stdout",
     "output_type": "stream",
     "text": [
      "             precision    recall  f1-score   support\n",
      "\n",
      "       -1.0       0.00      0.00      0.00         0\n",
      "        0.0       0.40      0.00      0.00       987\n",
      "        1.0       0.07      0.04      0.05        95\n",
      "        2.0       0.16      0.12      0.13      1046\n",
      "        3.0       0.29      0.56      0.38      1830\n",
      "        4.0       0.16      0.35      0.22      1168\n",
      "        5.0       0.28      0.12      0.17       788\n",
      "        6.0       0.27      0.01      0.01      1264\n",
      "        8.0       0.00      0.00      0.00         0\n",
      "\n",
      "avg / total       0.26      0.23      0.17      7178\n",
      "\n",
      "[[   0    0    0    0    0    0    0    0    0]\n",
      " [   2    2   13  144  537  259   29    1    0]\n",
      " [   0    0    4   12   53   24    2    0    0]\n",
      " [   0    2   14  122  506  354   45    3    0]\n",
      " [   0    1   12  236 1020  513   45    3    0]\n",
      " [   0    0    6  111  601  407   35    8    0]\n",
      " [   0    0    1   49  260  380   93    4    1]\n",
      " [   0    0    6   98  537  536   80    7    0]\n",
      " [   0    0    0    0    0    0    0    0    0]]\n"
     ]
    },
    {
     "name": "stderr",
     "output_type": "stream",
     "text": [
      "/home/mohit/anaconda3/lib/python3.6/site-packages/sklearn/metrics/classification.py:1137: UndefinedMetricWarning: Recall and F-score are ill-defined and being set to 0.0 in labels with no true samples.\n",
      "  'recall', 'true', average, warn_for)\n"
     ]
    }
   ],
   "source": [
    "print(metrics.classification_report(y_test, np.round(y_test_predict)))\n",
    "print(metrics.confusion_matrix(y_test, np.round(y_test_predict)))"
   ]
  },
  {
   "cell_type": "code",
   "execution_count": 80,
   "metadata": {},
   "outputs": [],
   "source": [
    "Ridge.fit(X_train500, y_train500)\n",
    "y_test_predict = Ridge.predict(X_test500)"
   ]
  },
  {
   "cell_type": "code",
   "execution_count": 82,
   "metadata": {},
   "outputs": [
    {
     "name": "stdout",
     "output_type": "stream",
     "text": [
      "             precision    recall  f1-score   support\n",
      "\n",
      "       -3.0       0.00      0.00      0.00         0\n",
      "       -2.0       0.00      0.00      0.00         0\n",
      "       -1.0       0.00      0.00      0.00         0\n",
      "        0.0       0.14      0.05      0.07       103\n",
      "        1.0       0.28      0.22      0.25       100\n",
      "        2.0       0.16      0.20      0.18       101\n",
      "        3.0       0.17      0.30      0.21        96\n",
      "        4.0       0.15      0.17      0.16       111\n",
      "        5.0       0.23      0.16      0.19        93\n",
      "        6.0       0.17      0.07      0.10        96\n",
      "        7.0       0.00      0.00      0.00         0\n",
      "        8.0       0.00      0.00      0.00         0\n",
      "        9.0       0.00      0.00      0.00         0\n",
      "       11.0       0.00      0.00      0.00         0\n",
      "\n",
      "avg / total       0.18      0.17      0.17       700\n",
      "\n",
      "[[ 0  0  0  0  0  0  0  0  0  0  0  0  0  0]\n",
      " [ 0  0  0  0  0  0  0  0  0  0  0  0  0  0]\n",
      " [ 0  0  0  0  0  0  0  0  0  0  0  0  0  0]\n",
      " [ 1  1  3  5 17 18 22 16  8  4  4  4  0  0]\n",
      " [ 0  0  2  5 22 21 23 14  8  2  2  1  0  0]\n",
      " [ 0  0  1  6  6 20 28 22  8  9  0  1  0  0]\n",
      " [ 0  1  5  7  8 15 29 20  6  2  2  0  1  0]\n",
      " [ 0  0  2  5 11 15 31 19 10 10  3  4  0  1]\n",
      " [ 0  3  1  5  5 16 19 16 15  8  2  1  2  0]\n",
      " [ 0  2  3  2 10 18 22 18 11  7  3  0  0  0]\n",
      " [ 0  0  0  0  0  0  0  0  0  0  0  0  0  0]\n",
      " [ 0  0  0  0  0  0  0  0  0  0  0  0  0  0]\n",
      " [ 0  0  0  0  0  0  0  0  0  0  0  0  0  0]\n",
      " [ 0  0  0  0  0  0  0  0  0  0  0  0  0  0]]\n"
     ]
    },
    {
     "name": "stderr",
     "output_type": "stream",
     "text": [
      "/home/mohit/anaconda3/lib/python3.6/site-packages/sklearn/metrics/classification.py:1137: UndefinedMetricWarning: Recall and F-score are ill-defined and being set to 0.0 in labels with no true samples.\n",
      "  'recall', 'true', average, warn_for)\n"
     ]
    }
   ],
   "source": [
    "print(metrics.classification_report(y_test500, np.round(y_test_predict)))\n",
    "print(metrics.confusion_matrix(y_test500,np.round(y_test_predict)))"
   ]
  },
  {
   "cell_type": "markdown",
   "metadata": {},
   "source": [
    "### Decision tree regression"
   ]
  },
  {
   "cell_type": "markdown",
   "metadata": {},
   "source": [
    "https://scikit-learn.org/stable/auto_examples/tree/plot_tree_regression_multioutput.html#sphx-glr-auto-examples-tree-plot-tree-regression-multioutput-py"
   ]
  },
  {
   "cell_type": "code",
   "execution_count": 83,
   "metadata": {},
   "outputs": [],
   "source": [
    "from sklearn.tree import DecisionTreeRegressor\n",
    "regr_1 = DecisionTreeRegressor(max_depth=2)\n",
    "regr_2 = DecisionTreeRegressor(max_depth=5)\n",
    "regr_3 = DecisionTreeRegressor(max_depth=8)"
   ]
  },
  {
   "cell_type": "code",
   "execution_count": 84,
   "metadata": {},
   "outputs": [
    {
     "data": {
      "text/plain": [
       "DecisionTreeRegressor(criterion='mse', max_depth=8, max_features=None,\n",
       "           max_leaf_nodes=None, min_impurity_decrease=0.0,\n",
       "           min_impurity_split=None, min_samples_leaf=1,\n",
       "           min_samples_split=2, min_weight_fraction_leaf=0.0,\n",
       "           presort=False, random_state=None, splitter='best')"
      ]
     },
     "execution_count": 84,
     "metadata": {},
     "output_type": "execute_result"
    }
   ],
   "source": [
    "regr_1.fit(X_train, y_train)\n",
    "regr_2.fit(X_train, y_train)\n",
    "regr_3.fit(X_train, y_train)"
   ]
  },
  {
   "cell_type": "code",
   "execution_count": 89,
   "metadata": {},
   "outputs": [
    {
     "name": "stdout",
     "output_type": "stream",
     "text": [
      "             precision    recall  f1-score   support\n",
      "\n",
      "          0       0.00      0.00      0.00       987\n",
      "          1       0.00      0.00      0.00        95\n",
      "          2       0.00      0.00      0.00      1046\n",
      "          3       0.27      0.85      0.41      1830\n",
      "          4       0.12      0.14      0.13      1168\n",
      "          5       0.00      0.00      0.00       788\n",
      "          6       0.00      0.00      0.00      1264\n",
      "\n",
      "avg / total       0.09      0.24      0.13      7178\n",
      "\n",
      "[[   0    0    0  848  139    0    0]\n",
      " [   0    0    0   81   14    0    0]\n",
      " [   0    0    0  798  248    0    0]\n",
      " [   0    0    0 1554  276    0    0]\n",
      " [   0    0    0 1001  167    0    0]\n",
      " [   0    0    0  492  296    0    0]\n",
      " [   0    0    0  956  308    0    0]]\n"
     ]
    },
    {
     "name": "stderr",
     "output_type": "stream",
     "text": [
      "/home/mohit/anaconda3/lib/python3.6/site-packages/sklearn/metrics/classification.py:1135: UndefinedMetricWarning: Precision and F-score are ill-defined and being set to 0.0 in labels with no predicted samples.\n",
      "  'precision', 'predicted', average, warn_for)\n"
     ]
    }
   ],
   "source": [
    "y_test_predict = regr_1.predict(X_test)\n",
    "print(metrics.classification_report(y_test, np.round(y_test_predict)))\n",
    "print(metrics.confusion_matrix(y_test,np.round(y_test_predict)))"
   ]
  },
  {
   "cell_type": "code",
   "execution_count": 86,
   "metadata": {},
   "outputs": [
    {
     "name": "stdout",
     "output_type": "stream",
     "text": [
      "             precision    recall  f1-score   support\n",
      "\n",
      "          0       0.00      0.00      0.00       987\n",
      "          1       0.00      0.00      0.00        95\n",
      "          2       0.16      0.03      0.05      1046\n",
      "          3       0.28      0.70      0.40      1830\n",
      "          4       0.16      0.33      0.22      1168\n",
      "          5       0.00      0.00      0.00       788\n",
      "          6       0.00      0.00      0.00      1264\n",
      "\n",
      "avg / total       0.12      0.24      0.14      7178\n",
      "\n",
      "[[   0    1   42  685  259    0    0]\n",
      " [   0    0    2   75   18    0    0]\n",
      " [   0    1   32  669  344    0    0]\n",
      " [   0    1   63 1276  490    0    0]\n",
      " [   0    2   34  747  385    0    0]\n",
      " [   0    0   12  407  369    0    0]\n",
      " [   0    1   16  707  540    0    0]]\n"
     ]
    },
    {
     "name": "stderr",
     "output_type": "stream",
     "text": [
      "/home/mohit/anaconda3/lib/python3.6/site-packages/sklearn/metrics/classification.py:1135: UndefinedMetricWarning: Precision and F-score are ill-defined and being set to 0.0 in labels with no predicted samples.\n",
      "  'precision', 'predicted', average, warn_for)\n"
     ]
    }
   ],
   "source": [
    "y_test_predict = regr_2.predict(X_test)\n",
    "print(metrics.classification_report(y_test, (y_test_predict)))\n",
    "print(metrics.confusion_matrix(y_test,(y_test_predict)))"
   ]
  },
  {
   "cell_type": "code",
   "execution_count": 90,
   "metadata": {},
   "outputs": [
    {
     "name": "stdout",
     "output_type": "stream",
     "text": [
      "             precision    recall  f1-score   support\n",
      "\n",
      "          0       0.30      0.02      0.03       987\n",
      "          1       0.04      0.04      0.04        95\n",
      "          2       0.15      0.07      0.10      1046\n",
      "          3       0.29      0.60      0.39      1830\n",
      "          4       0.16      0.32      0.22      1168\n",
      "          5       0.21      0.10      0.13       788\n",
      "          6       0.38      0.01      0.01      1264\n",
      "\n",
      "avg / total       0.25      0.23      0.17      7178\n",
      "\n",
      "[[  18   35   90  545  252   43    4]\n",
      " [   0    4   11   58   20    2    0]\n",
      " [   6   17   76  572  321   51    3]\n",
      " [  13   22  155 1106  484   47    3]\n",
      " [  13   14   84  636  372   47    2]\n",
      " [   3    5   30  344  328   75    3]\n",
      " [   7   16   75  573  486   98    9]]\n"
     ]
    }
   ],
   "source": [
    "y_test_predict = regr_3.predict(X_test)\n",
    "print(metrics.classification_report(y_test, np.round(y_test_predict)))\n",
    "print(metrics.confusion_matrix(y_test,np.round(y_test_predict)))"
   ]
  },
  {
   "cell_type": "code",
   "execution_count": 91,
   "metadata": {},
   "outputs": [
    {
     "data": {
      "text/plain": [
       "DecisionTreeRegressor(criterion='mse', max_depth=8, max_features=None,\n",
       "           max_leaf_nodes=None, min_impurity_decrease=0.0,\n",
       "           min_impurity_split=None, min_samples_leaf=1,\n",
       "           min_samples_split=2, min_weight_fraction_leaf=0.0,\n",
       "           presort=False, random_state=None, splitter='best')"
      ]
     },
     "execution_count": 91,
     "metadata": {},
     "output_type": "execute_result"
    }
   ],
   "source": [
    "regr_1.fit(X_train500, y_train500)\n",
    "regr_2.fit(X_train500, y_train500)\n",
    "regr_3.fit(X_train500, y_train500)"
   ]
  },
  {
   "cell_type": "code",
   "execution_count": 93,
   "metadata": {},
   "outputs": [
    {
     "name": "stdout",
     "output_type": "stream",
     "text": [
      "             precision    recall  f1-score   support\n",
      "\n",
      "          0       0.00      0.00      0.00       103\n",
      "          1       0.00      0.00      0.00       100\n",
      "          2       0.21      0.16      0.18       101\n",
      "          3       0.16      0.77      0.26        96\n",
      "          4       0.15      0.22      0.18       111\n",
      "          5       0.00      0.00      0.00        93\n",
      "          6       0.00      0.00      0.00        96\n",
      "\n",
      "avg / total       0.08      0.16      0.09       700\n",
      "\n",
      "[[ 0  0 15 74 14  0  0]\n",
      " [ 0  0 16 64 20  0  0]\n",
      " [ 0  0 16 65 20  0  0]\n",
      " [ 0  0  6 74 16  0  0]\n",
      " [ 0  0  8 79 24  0  0]\n",
      " [ 0  0 10 48 35  0  0]\n",
      " [ 0  0  6 64 26  0  0]]\n"
     ]
    },
    {
     "name": "stderr",
     "output_type": "stream",
     "text": [
      "/home/mohit/anaconda3/lib/python3.6/site-packages/sklearn/metrics/classification.py:1135: UndefinedMetricWarning: Precision and F-score are ill-defined and being set to 0.0 in labels with no predicted samples.\n",
      "  'precision', 'predicted', average, warn_for)\n"
     ]
    }
   ],
   "source": [
    "y_test_predict = regr_1.predict(X_test500)\n",
    "print(metrics.classification_report(y_test500, np.round(y_test_predict)))\n",
    "print(metrics.confusion_matrix(y_test500,np.round(y_test_predict)))"
   ]
  },
  {
   "cell_type": "code",
   "execution_count": 94,
   "metadata": {},
   "outputs": [
    {
     "name": "stdout",
     "output_type": "stream",
     "text": [
      "             precision    recall  f1-score   support\n",
      "\n",
      "          0       1.00      0.01      0.02       103\n",
      "          1       0.16      0.05      0.08       100\n",
      "          2       0.17      0.09      0.12       101\n",
      "          3       0.15      0.74      0.25        96\n",
      "          4       0.18      0.21      0.19       111\n",
      "          5       0.00      0.00      0.00        93\n",
      "          6       0.00      0.00      0.00        96\n",
      "\n",
      "avg / total       0.24      0.16      0.10       700\n",
      "\n",
      "[[ 1  7 11 73 10  0  1]\n",
      " [ 0  5 11 71 13  0  0]\n",
      " [ 0  7  9 64 19  2  0]\n",
      " [ 0  1  5 71 16  1  2]\n",
      " [ 0  3  8 76 23  0  1]\n",
      " [ 0  4  4 51 32  0  2]\n",
      " [ 0  4  4 69 17  2  0]]\n"
     ]
    }
   ],
   "source": [
    "y_test_predict = regr_2.predict(X_test500)\n",
    "print(metrics.classification_report(y_test500, np.round(y_test_predict)))\n",
    "print(metrics.confusion_matrix(y_test500,np.round(y_test_predict)))"
   ]
  },
  {
   "cell_type": "code",
   "execution_count": 95,
   "metadata": {},
   "outputs": [
    {
     "name": "stdout",
     "output_type": "stream",
     "text": [
      "             precision    recall  f1-score   support\n",
      "\n",
      "          0       0.38      0.08      0.13       103\n",
      "          1       0.36      0.15      0.21       100\n",
      "          2       0.13      0.11      0.12       101\n",
      "          3       0.16      0.55      0.25        96\n",
      "          4       0.15      0.16      0.16       111\n",
      "          5       0.28      0.25      0.26        93\n",
      "          6       0.06      0.01      0.02        96\n",
      "\n",
      "avg / total       0.22      0.18      0.16       700\n",
      "\n",
      "[[ 8  9 14 46 15  7  4]\n",
      " [ 1 15 10 55 10  8  1]\n",
      " [ 5  5 11 48 16 13  3]\n",
      " [ 0  2 12 53 17  8  4]\n",
      " [ 2  4 16 57 18 11  3]\n",
      " [ 4  4  9 34 18 23  1]\n",
      " [ 1  3 12 41 27 11  1]]\n"
     ]
    }
   ],
   "source": [
    "y_test_predict = regr_3.predict(X_test500)\n",
    "print(metrics.classification_report(y_test500, np.round(y_test_predict)))\n",
    "print(metrics.confusion_matrix(y_test500,np.round(y_test_predict)))"
   ]
  },
  {
   "cell_type": "markdown",
   "metadata": {},
   "source": [
    "###  Keras Model"
   ]
  },
  {
   "cell_type": "code",
   "execution_count": null,
   "metadata": {},
   "outputs": [],
   "source": [
    "import sys, os\n",
    "from keras.models import Sequential\n",
    "from keras.layers import Dense, Dropout, Activation, Flatten\n",
    "from keras.layers import Conv2D, MaxPooling2D, BatchNormalization\n",
    "from keras.losses import categorical_crossentropy\n",
    "from keras.optimizers import Adam\n",
    "from keras.regularizers import l2\n",
    "from keras.callbacks import ReduceLROnPlateau, TensorBoard, EarlyStopping, ModelCheckpoint\n",
    "from keras.models import load_model"
   ]
  },
  {
   "cell_type": "code",
   "execution_count": null,
   "metadata": {},
   "outputs": [],
   "source": [
    "num_features = 64\n",
    "num_labels = 7\n",
    "batch_size = 64\n",
    "epochs = 100\n",
    "width, height = 48, 48"
   ]
  },
  {
   "cell_type": "code",
   "execution_count": null,
   "metadata": {},
   "outputs": [],
   "source": [
    "dataK = pd.read_csv('fer2018/fer2018.csv')"
   ]
  },
  {
   "cell_type": "code",
   "execution_count": null,
   "metadata": {},
   "outputs": [],
   "source": [
    "pixels = dataK['pixels'].tolist() \n",
    "\n",
    "faces = []\n",
    "for pixel_sequence in pixels:\n",
    "    face = [int(pixel) for pixel in pixel_sequence.split(' ')] \n",
    "    face = np.asarray(face).reshape(width, height) \n",
    "    faces.append(face.astype('float32'))\n",
    "\n",
    "faces = np.asarray(faces)\n",
    "faces = np.expand_dims(faces, -1) \n",
    "\n",
    "emotions = pd.get_dummies(dataK['emotion']).as_matrix() "
   ]
  },
  {
   "cell_type": "code",
   "execution_count": null,
   "metadata": {},
   "outputs": [],
   "source": [
    "XK_train, XK_test, yK_train, yK_test = train_test_split(faces, emotions, test_size=0.15, random_state=42)\n",
    "XK_train, XK_val, yK_train, yK_val = train_test_split(XK_train, yK_train, test_size=0.15, random_state=41)"
   ]
  },
  {
   "cell_type": "code",
   "execution_count": null,
   "metadata": {},
   "outputs": [],
   "source": [
    "modelK = Sequential()\n",
    "\n",
    "modelK.add(Conv2D(num_features, kernel_size=(3, 3), activation='relu', input_shape=(width, height, 1), data_format='channels_last', kernel_regularizer=l2(0.01)))\n",
    "modelK.add(Conv2D(num_features, kernel_size=(3, 3), activation='relu', padding='same'))\n",
    "modelK.add(BatchNormalization())\n",
    "modelK.add(MaxPooling2D(pool_size=(2, 2), strides=(2, 2)))\n",
    "modelK.add(Dropout(0.5))\n",
    "\n",
    "modelK.add(Conv2D(2*num_features, kernel_size=(3, 3), activation='relu', padding='same'))\n",
    "modelK.add(BatchNormalization())\n",
    "modelK.add(Conv2D(2*num_features, kernel_size=(3, 3), activation='relu', padding='same'))\n",
    "modelK.add(BatchNormalization())\n",
    "modelK.add(MaxPooling2D(pool_size=(2, 2), strides=(2, 2)))\n",
    "modelK.add(Dropout(0.5))\n",
    "\n",
    "modelK.add(Conv2D(2*2*num_features, kernel_size=(3, 3), activation='relu', padding='same'))\n",
    "modelK.add(BatchNormalization())\n",
    "modelK.add(Conv2D(2*2*num_features, kernel_size=(3, 3), activation='relu', padding='same'))\n",
    "modelK.add(BatchNormalization())\n",
    "modelK.add(MaxPooling2D(pool_size=(2, 2), strides=(2, 2)))\n",
    "modelK.add(Dropout(0.5))\n",
    "\n",
    "modelK.add(Conv2D(2*2*2*num_features, kernel_size=(3, 3), activation='relu', padding='same'))\n",
    "modelK.add(BatchNormalization())\n",
    "modelK.add(Conv2D(2*2*2*num_features, kernel_size=(3, 3), activation='relu', padding='same'))\n",
    "modelK.add(BatchNormalization())\n",
    "modelK.add(MaxPooling2D(pool_size=(2, 2), strides=(2, 2)))\n",
    "modelK.add(Dropout(0.5))\n",
    "\n",
    "modelK.add(Flatten())\n",
    "\n",
    "modelK.add(Dense(2*2*2*num_features, activation='relu'))\n",
    "modelK.add(Dropout(0.4))\n",
    "modelK.add(Dense(2*2*num_features, activation='relu'))\n",
    "modelK.add(Dropout(0.4))\n",
    "modelK.add(Dense(2*num_features, activation='relu'))\n",
    "modelK.add(Dropout(0.5))\n",
    "\n",
    "modelK.add(Dense(num_labels, activation='softmax'))"
   ]
  },
  {
   "cell_type": "code",
   "execution_count": null,
   "metadata": {},
   "outputs": [],
   "source": [
    "modelK.summary()"
   ]
  },
  {
   "cell_type": "code",
   "execution_count": null,
   "metadata": {},
   "outputs": [],
   "source": [
    "modelK.compile(loss=categorical_crossentropy,\n",
    "              optimizer=Adam(lr=0.001, beta_1=0.9, beta_2=0.999, epsilon=1e-7),\n",
    "              metrics=['accuracy'])"
   ]
  },
  {
   "cell_type": "code",
   "execution_count": null,
   "metadata": {},
   "outputs": [],
   "source": [
    "lr_reducer = ReduceLROnPlateau(monitor='val_loss', factor=0.9, patience=3, verbose=1)"
   ]
  },
  {
   "cell_type": "code",
   "execution_count": null,
   "metadata": {},
   "outputs": [],
   "source": [
    "early_stopper = EarlyStopping(monitor='val_loss', min_delta=0, patience=8, verbose=1, mode='auto')"
   ]
  },
  {
   "cell_type": "code",
   "execution_count": null,
   "metadata": {},
   "outputs": [],
   "source": [
    "MODELPATH = './model.h5'\n",
    "checkpointer = ModelCheckpoint(MODELPATH, monitor='val_loss', verbose=1, save_best_only=True)"
   ]
  },
  {
   "cell_type": "code",
   "execution_count": null,
   "metadata": {},
   "outputs": [],
   "source": [
    "tensorboard = TensorBoard(log_dir='./logs')"
   ]
  },
  {
   "cell_type": "code",
   "execution_count": null,
   "metadata": {},
   "outputs": [],
   "source": [
    "modelK.fit(np.array(XK_train), np.array(yK_train),\n",
    "          batch_size=batch_size,\n",
    "          epochs=epochs,\n",
    "          verbose=1,\n",
    "          validation_data=(np.array(XK_test), np.array(yK_test)),\n",
    "          shuffle=True,\n",
    "          callbacks=[lr_reducer, tensorboard, early_stopper, checkpointer])"
   ]
  },
  {
   "cell_type": "code",
   "execution_count": null,
   "metadata": {},
   "outputs": [],
   "source": [
    "scores = modelK.evaluate(np.array(XK_test), np.array(yK_test), batch_size=batch_size)\n",
    "print(\"Loss: \" + str(scores[0]))\n",
    "print(\"Accuracy: \" + str(scores[1]))"
   ]
  },
  {
   "cell_type": "code",
   "execution_count": null,
   "metadata": {},
   "outputs": [],
   "source": [
    "scores1 = modelK.evaluate(np.array(XK_train), np.array(yK_train), batch_size=batch_size)\n",
    "print(\"Loss: \" + str(scores1[0]))\n",
    "print(\"Accuracy: \" + str(scores1[1]))"
   ]
  },
  {
   "cell_type": "code",
   "execution_count": null,
   "metadata": {},
   "outputs": [],
   "source": []
  },
  {
   "cell_type": "code",
   "execution_count": null,
   "metadata": {},
   "outputs": [],
   "source": []
  },
  {
   "cell_type": "code",
   "execution_count": null,
   "metadata": {},
   "outputs": [],
   "source": []
  }
 ],
 "metadata": {
  "kernelspec": {
   "display_name": "Python 3",
   "language": "python",
   "name": "python3"
  },
  "language_info": {
   "codemirror_mode": {
    "name": "ipython",
    "version": 3
   },
   "file_extension": ".py",
   "mimetype": "text/x-python",
   "name": "python",
   "nbconvert_exporter": "python",
   "pygments_lexer": "ipython3",
   "version": "3.6.5"
  }
 },
 "nbformat": 4,
 "nbformat_minor": 2
}
